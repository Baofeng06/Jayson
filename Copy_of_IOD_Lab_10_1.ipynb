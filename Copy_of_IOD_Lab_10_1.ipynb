{
  "cells": [
    {
      "cell_type": "markdown",
      "metadata": {
        "id": "view-in-github",
        "colab_type": "text"
      },
      "source": [
        "<a href=\"https://colab.research.google.com/github/Baofeng06/Jayson/blob/main/Copy_of_IOD_Lab_10_1.ipynb\" target=\"_parent\"><img src=\"https://colab.research.google.com/assets/colab-badge.svg\" alt=\"Open In Colab\"/></a>"
      ]
    },
    {
      "cell_type": "markdown",
      "metadata": {
        "id": "gn3SG1yo1KdV"
      },
      "source": [
        "<div>\n",
        "<img src=https://www.institutedata.com/wp-content/uploads/2019/10/iod_h_tp_primary_c.svg width=\"300\">\n",
        "</div>"
      ]
    },
    {
      "cell_type": "markdown",
      "metadata": {
        "id": "g-SD7a9X1KdY"
      },
      "source": [
        "# Lab 10.1: NN with Keras\n",
        "INSTRUCTIONS:\n",
        "- Read the guides and hints, then create the necessary analysis and code to find an answer and conclusion for the task below.\n",
        "- **NOTE**: This is a Regression problem. Consider the appropriate:\n",
        "    - Activation function\n",
        "    - Loss/Cost Function\n",
        "    - Metrics"
      ]
    },
    {
      "cell_type": "markdown",
      "metadata": {
        "id": "ENgfRnvL1Kdc"
      },
      "source": [
        "### Import libraries"
      ]
    },
    {
      "cell_type": "code",
      "execution_count": 2,
      "metadata": {
        "id": "Z9H465X-1Kde"
      },
      "outputs": [],
      "source": [
        "# insert code here\n",
        "import pandas as pd\n",
        "import numpy as np \n",
        "from sklearn import metrics\n",
        "from sklearn.datasets import load_diabetes\n",
        "from sklearn.model_selection import KFold\n",
        "from sklearn.model_selection import GridSearchCV\n",
        "from sklearn.model_selection import train_test_split\n",
        "from sklearn.model_selection import cross_validate\n",
        "from sklearn.model_selection import cross_val_score\n",
        "import seaborn as sns\n",
        "import matplotlib.pyplot as plt\n",
        "from tensorflow.keras import Sequential\n",
        "from tensorflow.keras.layers import Dense\n",
        "from tensorflow.keras.wrappers.scikit_learn import KerasRegressor\n",
        "import sklearn.datasets\n",
        "from sklearn.preprocessing import StandardScaler"
      ]
    },
    {
      "cell_type": "code",
      "source": [
        "!pip install tensorflow"
      ],
      "metadata": {
        "id": "AqOpDxRpZhHG",
        "outputId": "96ae56d0-a841-4dd2-b6b8-a9d6bffe10f4",
        "colab": {
          "base_uri": "https://localhost:8080/"
        }
      },
      "execution_count": null,
      "outputs": [
        {
          "output_type": "stream",
          "name": "stdout",
          "text": [
            "Requirement already satisfied: tensorflow in /usr/local/lib/python3.7/dist-packages (2.7.0)\n",
            "Requirement already satisfied: protobuf>=3.9.2 in /usr/local/lib/python3.7/dist-packages (from tensorflow) (3.17.3)\n",
            "Requirement already satisfied: keras<2.8,>=2.7.0rc0 in /usr/local/lib/python3.7/dist-packages (from tensorflow) (2.7.0)\n",
            "Requirement already satisfied: opt-einsum>=2.3.2 in /usr/local/lib/python3.7/dist-packages (from tensorflow) (3.3.0)\n",
            "Requirement already satisfied: six>=1.12.0 in /usr/local/lib/python3.7/dist-packages (from tensorflow) (1.15.0)\n",
            "Requirement already satisfied: wrapt>=1.11.0 in /usr/local/lib/python3.7/dist-packages (from tensorflow) (1.13.3)\n",
            "Requirement already satisfied: astunparse>=1.6.0 in /usr/local/lib/python3.7/dist-packages (from tensorflow) (1.6.3)\n",
            "Requirement already satisfied: termcolor>=1.1.0 in /usr/local/lib/python3.7/dist-packages (from tensorflow) (1.1.0)\n",
            "Requirement already satisfied: tensorflow-estimator<2.8,~=2.7.0rc0 in /usr/local/lib/python3.7/dist-packages (from tensorflow) (2.7.0)\n",
            "Requirement already satisfied: google-pasta>=0.1.1 in /usr/local/lib/python3.7/dist-packages (from tensorflow) (0.2.0)\n",
            "Requirement already satisfied: flatbuffers<3.0,>=1.12 in /usr/local/lib/python3.7/dist-packages (from tensorflow) (2.0)\n",
            "Requirement already satisfied: typing-extensions>=3.6.6 in /usr/local/lib/python3.7/dist-packages (from tensorflow) (3.10.0.2)\n",
            "Requirement already satisfied: gast<0.5.0,>=0.2.1 in /usr/local/lib/python3.7/dist-packages (from tensorflow) (0.4.0)\n",
            "Requirement already satisfied: tensorflow-io-gcs-filesystem>=0.21.0 in /usr/local/lib/python3.7/dist-packages (from tensorflow) (0.24.0)\n",
            "Requirement already satisfied: libclang>=9.0.1 in /usr/local/lib/python3.7/dist-packages (from tensorflow) (13.0.0)\n",
            "Requirement already satisfied: wheel<1.0,>=0.32.0 in /usr/local/lib/python3.7/dist-packages (from tensorflow) (0.37.1)\n",
            "Requirement already satisfied: keras-preprocessing>=1.1.1 in /usr/local/lib/python3.7/dist-packages (from tensorflow) (1.1.2)\n",
            "Requirement already satisfied: h5py>=2.9.0 in /usr/local/lib/python3.7/dist-packages (from tensorflow) (3.1.0)\n",
            "Requirement already satisfied: numpy>=1.14.5 in /usr/local/lib/python3.7/dist-packages (from tensorflow) (1.19.5)\n",
            "Requirement already satisfied: tensorboard~=2.6 in /usr/local/lib/python3.7/dist-packages (from tensorflow) (2.7.0)\n",
            "Requirement already satisfied: absl-py>=0.4.0 in /usr/local/lib/python3.7/dist-packages (from tensorflow) (1.0.0)\n",
            "Requirement already satisfied: grpcio<2.0,>=1.24.3 in /usr/local/lib/python3.7/dist-packages (from tensorflow) (1.43.0)\n",
            "Requirement already satisfied: cached-property in /usr/local/lib/python3.7/dist-packages (from h5py>=2.9.0->tensorflow) (1.5.2)\n",
            "Requirement already satisfied: werkzeug>=0.11.15 in /usr/local/lib/python3.7/dist-packages (from tensorboard~=2.6->tensorflow) (1.0.1)\n",
            "Requirement already satisfied: markdown>=2.6.8 in /usr/local/lib/python3.7/dist-packages (from tensorboard~=2.6->tensorflow) (3.3.6)\n",
            "Requirement already satisfied: google-auth<3,>=1.6.3 in /usr/local/lib/python3.7/dist-packages (from tensorboard~=2.6->tensorflow) (1.35.0)\n",
            "Requirement already satisfied: tensorboard-data-server<0.7.0,>=0.6.0 in /usr/local/lib/python3.7/dist-packages (from tensorboard~=2.6->tensorflow) (0.6.1)\n",
            "Requirement already satisfied: requests<3,>=2.21.0 in /usr/local/lib/python3.7/dist-packages (from tensorboard~=2.6->tensorflow) (2.23.0)\n",
            "Requirement already satisfied: tensorboard-plugin-wit>=1.6.0 in /usr/local/lib/python3.7/dist-packages (from tensorboard~=2.6->tensorflow) (1.8.1)\n",
            "Requirement already satisfied: setuptools>=41.0.0 in /usr/local/lib/python3.7/dist-packages (from tensorboard~=2.6->tensorflow) (57.4.0)\n",
            "Requirement already satisfied: google-auth-oauthlib<0.5,>=0.4.1 in /usr/local/lib/python3.7/dist-packages (from tensorboard~=2.6->tensorflow) (0.4.6)\n",
            "Requirement already satisfied: rsa<5,>=3.1.4 in /usr/local/lib/python3.7/dist-packages (from google-auth<3,>=1.6.3->tensorboard~=2.6->tensorflow) (4.8)\n",
            "Requirement already satisfied: pyasn1-modules>=0.2.1 in /usr/local/lib/python3.7/dist-packages (from google-auth<3,>=1.6.3->tensorboard~=2.6->tensorflow) (0.2.8)\n",
            "Requirement already satisfied: cachetools<5.0,>=2.0.0 in /usr/local/lib/python3.7/dist-packages (from google-auth<3,>=1.6.3->tensorboard~=2.6->tensorflow) (4.2.4)\n",
            "Requirement already satisfied: requests-oauthlib>=0.7.0 in /usr/local/lib/python3.7/dist-packages (from google-auth-oauthlib<0.5,>=0.4.1->tensorboard~=2.6->tensorflow) (1.3.1)\n",
            "Requirement already satisfied: importlib-metadata>=4.4 in /usr/local/lib/python3.7/dist-packages (from markdown>=2.6.8->tensorboard~=2.6->tensorflow) (4.10.1)\n",
            "Requirement already satisfied: zipp>=0.5 in /usr/local/lib/python3.7/dist-packages (from importlib-metadata>=4.4->markdown>=2.6.8->tensorboard~=2.6->tensorflow) (3.7.0)\n",
            "Requirement already satisfied: pyasn1<0.5.0,>=0.4.6 in /usr/local/lib/python3.7/dist-packages (from pyasn1-modules>=0.2.1->google-auth<3,>=1.6.3->tensorboard~=2.6->tensorflow) (0.4.8)\n",
            "Requirement already satisfied: certifi>=2017.4.17 in /usr/local/lib/python3.7/dist-packages (from requests<3,>=2.21.0->tensorboard~=2.6->tensorflow) (2021.10.8)\n",
            "Requirement already satisfied: idna<3,>=2.5 in /usr/local/lib/python3.7/dist-packages (from requests<3,>=2.21.0->tensorboard~=2.6->tensorflow) (2.10)\n",
            "Requirement already satisfied: urllib3!=1.25.0,!=1.25.1,<1.26,>=1.21.1 in /usr/local/lib/python3.7/dist-packages (from requests<3,>=2.21.0->tensorboard~=2.6->tensorflow) (1.24.3)\n",
            "Requirement already satisfied: chardet<4,>=3.0.2 in /usr/local/lib/python3.7/dist-packages (from requests<3,>=2.21.0->tensorboard~=2.6->tensorflow) (3.0.4)\n",
            "Requirement already satisfied: oauthlib>=3.0.0 in /usr/local/lib/python3.7/dist-packages (from requests-oauthlib>=0.7.0->google-auth-oauthlib<0.5,>=0.4.1->tensorboard~=2.6->tensorflow) (3.2.0)\n"
          ]
        }
      ]
    },
    {
      "cell_type": "code",
      "source": [
        "!pip install keras"
      ],
      "metadata": {
        "id": "b2CIbzYyaROx",
        "outputId": "94480d5e-a6d1-4f49-e7c2-9cd329f54f2f",
        "colab": {
          "base_uri": "https://localhost:8080/"
        }
      },
      "execution_count": null,
      "outputs": [
        {
          "output_type": "stream",
          "name": "stdout",
          "text": [
            "Requirement already satisfied: keras in /usr/local/lib/python3.7/dist-packages (2.7.0)\n"
          ]
        }
      ]
    },
    {
      "cell_type": "code",
      "source": [
        "!pip install KerasRegressor"
      ],
      "metadata": {
        "id": "MuJD9Gnwaw8R",
        "outputId": "7bac6708-294e-4fd0-d0be-a275f1bb8ea5",
        "colab": {
          "base_uri": "https://localhost:8080/"
        }
      },
      "execution_count": null,
      "outputs": [
        {
          "output_type": "stream",
          "name": "stdout",
          "text": [
            "\u001b[31mERROR: Could not find a version that satisfies the requirement KerasRegressor (from versions: none)\u001b[0m\n",
            "\u001b[31mERROR: No matching distribution found for KerasRegressor\u001b[0m\n"
          ]
        }
      ]
    },
    {
      "cell_type": "code",
      "source": [
        "from tensorflow.keras.utils import to_categorical"
      ],
      "metadata": {
        "id": "ppe8C0MvYqNk"
      },
      "execution_count": 3,
      "outputs": []
    },
    {
      "cell_type": "markdown",
      "metadata": {
        "id": "5FHh910J1Kdm"
      },
      "source": [
        "### Load data\n",
        "Load the Diabetes dataset from **SciKit-Learn**."
      ]
    },
    {
      "cell_type": "code",
      "execution_count": 4,
      "metadata": {
        "id": "MWu8SlQF1Kdo"
      },
      "outputs": [],
      "source": [
        "# insert code here\n",
        "data = load_diabetes()"
      ]
    },
    {
      "cell_type": "code",
      "source": [
        "data"
      ],
      "metadata": {
        "colab": {
          "base_uri": "https://localhost:8080/"
        },
        "id": "kY_4Fg32d_4Z",
        "outputId": "2d2736d7-e41d-4f9d-aa40-260aa10a2caa"
      },
      "execution_count": 5,
      "outputs": [
        {
          "output_type": "execute_result",
          "data": {
            "text/plain": [
              "{'DESCR': '.. _diabetes_dataset:\\n\\nDiabetes dataset\\n----------------\\n\\nTen baseline variables, age, sex, body mass index, average blood\\npressure, and six blood serum measurements were obtained for each of n =\\n442 diabetes patients, as well as the response of interest, a\\nquantitative measure of disease progression one year after baseline.\\n\\n**Data Set Characteristics:**\\n\\n  :Number of Instances: 442\\n\\n  :Number of Attributes: First 10 columns are numeric predictive values\\n\\n  :Target: Column 11 is a quantitative measure of disease progression one year after baseline\\n\\n  :Attribute Information:\\n      - age     age in years\\n      - sex\\n      - bmi     body mass index\\n      - bp      average blood pressure\\n      - s1      tc, total serum cholesterol\\n      - s2      ldl, low-density lipoproteins\\n      - s3      hdl, high-density lipoproteins\\n      - s4      tch, total cholesterol / HDL\\n      - s5      ltg, possibly log of serum triglycerides level\\n      - s6      glu, blood sugar level\\n\\nNote: Each of these 10 feature variables have been mean centered and scaled by the standard deviation times `n_samples` (i.e. the sum of squares of each column totals 1).\\n\\nSource URL:\\nhttps://www4.stat.ncsu.edu/~boos/var.select/diabetes.html\\n\\nFor more information see:\\nBradley Efron, Trevor Hastie, Iain Johnstone and Robert Tibshirani (2004) \"Least Angle Regression,\" Annals of Statistics (with discussion), 407-499.\\n(https://web.stanford.edu/~hastie/Papers/LARS/LeastAngle_2002.pdf)',\n",
              " 'data': array([[ 0.03807591,  0.05068012,  0.06169621, ..., -0.00259226,\n",
              "          0.01990842, -0.01764613],\n",
              "        [-0.00188202, -0.04464164, -0.05147406, ..., -0.03949338,\n",
              "         -0.06832974, -0.09220405],\n",
              "        [ 0.08529891,  0.05068012,  0.04445121, ..., -0.00259226,\n",
              "          0.00286377, -0.02593034],\n",
              "        ...,\n",
              "        [ 0.04170844,  0.05068012, -0.01590626, ..., -0.01107952,\n",
              "         -0.04687948,  0.01549073],\n",
              "        [-0.04547248, -0.04464164,  0.03906215, ...,  0.02655962,\n",
              "          0.04452837, -0.02593034],\n",
              "        [-0.04547248, -0.04464164, -0.0730303 , ..., -0.03949338,\n",
              "         -0.00421986,  0.00306441]]),\n",
              " 'data_filename': 'diabetes_data.csv.gz',\n",
              " 'data_module': 'sklearn.datasets.data',\n",
              " 'feature_names': ['age',\n",
              "  'sex',\n",
              "  'bmi',\n",
              "  'bp',\n",
              "  's1',\n",
              "  's2',\n",
              "  's3',\n",
              "  's4',\n",
              "  's5',\n",
              "  's6'],\n",
              " 'frame': None,\n",
              " 'target': array([151.,  75., 141., 206., 135.,  97., 138.,  63., 110., 310., 101.,\n",
              "         69., 179., 185., 118., 171., 166., 144.,  97., 168.,  68.,  49.,\n",
              "         68., 245., 184., 202., 137.,  85., 131., 283., 129.,  59., 341.,\n",
              "         87.,  65., 102., 265., 276., 252.,  90., 100.,  55.,  61.,  92.,\n",
              "        259.,  53., 190., 142.,  75., 142., 155., 225.,  59., 104., 182.,\n",
              "        128.,  52.,  37., 170., 170.,  61., 144.,  52., 128.,  71., 163.,\n",
              "        150.,  97., 160., 178.,  48., 270., 202., 111.,  85.,  42., 170.,\n",
              "        200., 252., 113., 143.,  51.,  52., 210.,  65., 141.,  55., 134.,\n",
              "         42., 111.,  98., 164.,  48.,  96.,  90., 162., 150., 279.,  92.,\n",
              "         83., 128., 102., 302., 198.,  95.,  53., 134., 144., 232.,  81.,\n",
              "        104.,  59., 246., 297., 258., 229., 275., 281., 179., 200., 200.,\n",
              "        173., 180.,  84., 121., 161.,  99., 109., 115., 268., 274., 158.,\n",
              "        107.,  83., 103., 272.,  85., 280., 336., 281., 118., 317., 235.,\n",
              "         60., 174., 259., 178., 128.,  96., 126., 288.,  88., 292.,  71.,\n",
              "        197., 186.,  25.,  84.,  96., 195.,  53., 217., 172., 131., 214.,\n",
              "         59.,  70., 220., 268., 152.,  47.,  74., 295., 101., 151., 127.,\n",
              "        237., 225.,  81., 151., 107.,  64., 138., 185., 265., 101., 137.,\n",
              "        143., 141.,  79., 292., 178.,  91., 116.,  86., 122.,  72., 129.,\n",
              "        142.,  90., 158.,  39., 196., 222., 277.,  99., 196., 202., 155.,\n",
              "         77., 191.,  70.,  73.,  49.,  65., 263., 248., 296., 214., 185.,\n",
              "         78.,  93., 252., 150.,  77., 208.,  77., 108., 160.,  53., 220.,\n",
              "        154., 259.,  90., 246., 124.,  67.,  72., 257., 262., 275., 177.,\n",
              "         71.,  47., 187., 125.,  78.,  51., 258., 215., 303., 243.,  91.,\n",
              "        150., 310., 153., 346.,  63.,  89.,  50.,  39., 103., 308., 116.,\n",
              "        145.,  74.,  45., 115., 264.,  87., 202., 127., 182., 241.,  66.,\n",
              "         94., 283.,  64., 102., 200., 265.,  94., 230., 181., 156., 233.,\n",
              "         60., 219.,  80.,  68., 332., 248.,  84., 200.,  55.,  85.,  89.,\n",
              "         31., 129.,  83., 275.,  65., 198., 236., 253., 124.,  44., 172.,\n",
              "        114., 142., 109., 180., 144., 163., 147.,  97., 220., 190., 109.,\n",
              "        191., 122., 230., 242., 248., 249., 192., 131., 237.,  78., 135.,\n",
              "        244., 199., 270., 164.,  72.,  96., 306.,  91., 214.,  95., 216.,\n",
              "        263., 178., 113., 200., 139., 139.,  88., 148.,  88., 243.,  71.,\n",
              "         77., 109., 272.,  60.,  54., 221.,  90., 311., 281., 182., 321.,\n",
              "         58., 262., 206., 233., 242., 123., 167.,  63., 197.,  71., 168.,\n",
              "        140., 217., 121., 235., 245.,  40.,  52., 104., 132.,  88.,  69.,\n",
              "        219.,  72., 201., 110.,  51., 277.,  63., 118.,  69., 273., 258.,\n",
              "         43., 198., 242., 232., 175.,  93., 168., 275., 293., 281.,  72.,\n",
              "        140., 189., 181., 209., 136., 261., 113., 131., 174., 257.,  55.,\n",
              "         84.,  42., 146., 212., 233.,  91., 111., 152., 120.,  67., 310.,\n",
              "         94., 183.,  66., 173.,  72.,  49.,  64.,  48., 178., 104., 132.,\n",
              "        220.,  57.]),\n",
              " 'target_filename': 'diabetes_target.csv.gz'}"
            ]
          },
          "metadata": {},
          "execution_count": 5
        }
      ]
    },
    {
      "cell_type": "code",
      "source": [
        "import pandas as pd"
      ],
      "metadata": {
        "id": "o1m0o09gFmnv"
      },
      "execution_count": 6,
      "outputs": []
    },
    {
      "cell_type": "code",
      "source": [
        "X = pd.DataFrame(data['data'],columns=data['feature_names'])"
      ],
      "metadata": {
        "id": "5WyYfNlsFneK"
      },
      "execution_count": 11,
      "outputs": []
    },
    {
      "cell_type": "code",
      "source": [
        "X"
      ],
      "metadata": {
        "colab": {
          "base_uri": "https://localhost:8080/",
          "height": 419
        },
        "id": "IravSQsBFoDN",
        "outputId": "fc451ffb-5a20-411f-aa70-429f67d89d60"
      },
      "execution_count": 12,
      "outputs": [
        {
          "output_type": "execute_result",
          "data": {
            "text/html": [
              "\n",
              "  <div id=\"df-62985997-485d-4be7-b02a-0308266be9b4\">\n",
              "    <div class=\"colab-df-container\">\n",
              "      <div>\n",
              "<style scoped>\n",
              "    .dataframe tbody tr th:only-of-type {\n",
              "        vertical-align: middle;\n",
              "    }\n",
              "\n",
              "    .dataframe tbody tr th {\n",
              "        vertical-align: top;\n",
              "    }\n",
              "\n",
              "    .dataframe thead th {\n",
              "        text-align: right;\n",
              "    }\n",
              "</style>\n",
              "<table border=\"1\" class=\"dataframe\">\n",
              "  <thead>\n",
              "    <tr style=\"text-align: right;\">\n",
              "      <th></th>\n",
              "      <th>age</th>\n",
              "      <th>sex</th>\n",
              "      <th>bmi</th>\n",
              "      <th>bp</th>\n",
              "      <th>s1</th>\n",
              "      <th>s2</th>\n",
              "      <th>s3</th>\n",
              "      <th>s4</th>\n",
              "      <th>s5</th>\n",
              "      <th>s6</th>\n",
              "    </tr>\n",
              "  </thead>\n",
              "  <tbody>\n",
              "    <tr>\n",
              "      <th>0</th>\n",
              "      <td>0.038076</td>\n",
              "      <td>0.050680</td>\n",
              "      <td>0.061696</td>\n",
              "      <td>0.021872</td>\n",
              "      <td>-0.044223</td>\n",
              "      <td>-0.034821</td>\n",
              "      <td>-0.043401</td>\n",
              "      <td>-0.002592</td>\n",
              "      <td>0.019908</td>\n",
              "      <td>-0.017646</td>\n",
              "    </tr>\n",
              "    <tr>\n",
              "      <th>1</th>\n",
              "      <td>-0.001882</td>\n",
              "      <td>-0.044642</td>\n",
              "      <td>-0.051474</td>\n",
              "      <td>-0.026328</td>\n",
              "      <td>-0.008449</td>\n",
              "      <td>-0.019163</td>\n",
              "      <td>0.074412</td>\n",
              "      <td>-0.039493</td>\n",
              "      <td>-0.068330</td>\n",
              "      <td>-0.092204</td>\n",
              "    </tr>\n",
              "    <tr>\n",
              "      <th>2</th>\n",
              "      <td>0.085299</td>\n",
              "      <td>0.050680</td>\n",
              "      <td>0.044451</td>\n",
              "      <td>-0.005671</td>\n",
              "      <td>-0.045599</td>\n",
              "      <td>-0.034194</td>\n",
              "      <td>-0.032356</td>\n",
              "      <td>-0.002592</td>\n",
              "      <td>0.002864</td>\n",
              "      <td>-0.025930</td>\n",
              "    </tr>\n",
              "    <tr>\n",
              "      <th>3</th>\n",
              "      <td>-0.089063</td>\n",
              "      <td>-0.044642</td>\n",
              "      <td>-0.011595</td>\n",
              "      <td>-0.036656</td>\n",
              "      <td>0.012191</td>\n",
              "      <td>0.024991</td>\n",
              "      <td>-0.036038</td>\n",
              "      <td>0.034309</td>\n",
              "      <td>0.022692</td>\n",
              "      <td>-0.009362</td>\n",
              "    </tr>\n",
              "    <tr>\n",
              "      <th>4</th>\n",
              "      <td>0.005383</td>\n",
              "      <td>-0.044642</td>\n",
              "      <td>-0.036385</td>\n",
              "      <td>0.021872</td>\n",
              "      <td>0.003935</td>\n",
              "      <td>0.015596</td>\n",
              "      <td>0.008142</td>\n",
              "      <td>-0.002592</td>\n",
              "      <td>-0.031991</td>\n",
              "      <td>-0.046641</td>\n",
              "    </tr>\n",
              "    <tr>\n",
              "      <th>...</th>\n",
              "      <td>...</td>\n",
              "      <td>...</td>\n",
              "      <td>...</td>\n",
              "      <td>...</td>\n",
              "      <td>...</td>\n",
              "      <td>...</td>\n",
              "      <td>...</td>\n",
              "      <td>...</td>\n",
              "      <td>...</td>\n",
              "      <td>...</td>\n",
              "    </tr>\n",
              "    <tr>\n",
              "      <th>437</th>\n",
              "      <td>0.041708</td>\n",
              "      <td>0.050680</td>\n",
              "      <td>0.019662</td>\n",
              "      <td>0.059744</td>\n",
              "      <td>-0.005697</td>\n",
              "      <td>-0.002566</td>\n",
              "      <td>-0.028674</td>\n",
              "      <td>-0.002592</td>\n",
              "      <td>0.031193</td>\n",
              "      <td>0.007207</td>\n",
              "    </tr>\n",
              "    <tr>\n",
              "      <th>438</th>\n",
              "      <td>-0.005515</td>\n",
              "      <td>0.050680</td>\n",
              "      <td>-0.015906</td>\n",
              "      <td>-0.067642</td>\n",
              "      <td>0.049341</td>\n",
              "      <td>0.079165</td>\n",
              "      <td>-0.028674</td>\n",
              "      <td>0.034309</td>\n",
              "      <td>-0.018118</td>\n",
              "      <td>0.044485</td>\n",
              "    </tr>\n",
              "    <tr>\n",
              "      <th>439</th>\n",
              "      <td>0.041708</td>\n",
              "      <td>0.050680</td>\n",
              "      <td>-0.015906</td>\n",
              "      <td>0.017282</td>\n",
              "      <td>-0.037344</td>\n",
              "      <td>-0.013840</td>\n",
              "      <td>-0.024993</td>\n",
              "      <td>-0.011080</td>\n",
              "      <td>-0.046879</td>\n",
              "      <td>0.015491</td>\n",
              "    </tr>\n",
              "    <tr>\n",
              "      <th>440</th>\n",
              "      <td>-0.045472</td>\n",
              "      <td>-0.044642</td>\n",
              "      <td>0.039062</td>\n",
              "      <td>0.001215</td>\n",
              "      <td>0.016318</td>\n",
              "      <td>0.015283</td>\n",
              "      <td>-0.028674</td>\n",
              "      <td>0.026560</td>\n",
              "      <td>0.044528</td>\n",
              "      <td>-0.025930</td>\n",
              "    </tr>\n",
              "    <tr>\n",
              "      <th>441</th>\n",
              "      <td>-0.045472</td>\n",
              "      <td>-0.044642</td>\n",
              "      <td>-0.073030</td>\n",
              "      <td>-0.081414</td>\n",
              "      <td>0.083740</td>\n",
              "      <td>0.027809</td>\n",
              "      <td>0.173816</td>\n",
              "      <td>-0.039493</td>\n",
              "      <td>-0.004220</td>\n",
              "      <td>0.003064</td>\n",
              "    </tr>\n",
              "  </tbody>\n",
              "</table>\n",
              "<p>442 rows × 10 columns</p>\n",
              "</div>\n",
              "      <button class=\"colab-df-convert\" onclick=\"convertToInteractive('df-62985997-485d-4be7-b02a-0308266be9b4')\"\n",
              "              title=\"Convert this dataframe to an interactive table.\"\n",
              "              style=\"display:none;\">\n",
              "        \n",
              "  <svg xmlns=\"http://www.w3.org/2000/svg\" height=\"24px\"viewBox=\"0 0 24 24\"\n",
              "       width=\"24px\">\n",
              "    <path d=\"M0 0h24v24H0V0z\" fill=\"none\"/>\n",
              "    <path d=\"M18.56 5.44l.94 2.06.94-2.06 2.06-.94-2.06-.94-.94-2.06-.94 2.06-2.06.94zm-11 1L8.5 8.5l.94-2.06 2.06-.94-2.06-.94L8.5 2.5l-.94 2.06-2.06.94zm10 10l.94 2.06.94-2.06 2.06-.94-2.06-.94-.94-2.06-.94 2.06-2.06.94z\"/><path d=\"M17.41 7.96l-1.37-1.37c-.4-.4-.92-.59-1.43-.59-.52 0-1.04.2-1.43.59L10.3 9.45l-7.72 7.72c-.78.78-.78 2.05 0 2.83L4 21.41c.39.39.9.59 1.41.59.51 0 1.02-.2 1.41-.59l7.78-7.78 2.81-2.81c.8-.78.8-2.07 0-2.86zM5.41 20L4 18.59l7.72-7.72 1.47 1.35L5.41 20z\"/>\n",
              "  </svg>\n",
              "      </button>\n",
              "      \n",
              "  <style>\n",
              "    .colab-df-container {\n",
              "      display:flex;\n",
              "      flex-wrap:wrap;\n",
              "      gap: 12px;\n",
              "    }\n",
              "\n",
              "    .colab-df-convert {\n",
              "      background-color: #E8F0FE;\n",
              "      border: none;\n",
              "      border-radius: 50%;\n",
              "      cursor: pointer;\n",
              "      display: none;\n",
              "      fill: #1967D2;\n",
              "      height: 32px;\n",
              "      padding: 0 0 0 0;\n",
              "      width: 32px;\n",
              "    }\n",
              "\n",
              "    .colab-df-convert:hover {\n",
              "      background-color: #E2EBFA;\n",
              "      box-shadow: 0px 1px 2px rgba(60, 64, 67, 0.3), 0px 1px 3px 1px rgba(60, 64, 67, 0.15);\n",
              "      fill: #174EA6;\n",
              "    }\n",
              "\n",
              "    [theme=dark] .colab-df-convert {\n",
              "      background-color: #3B4455;\n",
              "      fill: #D2E3FC;\n",
              "    }\n",
              "\n",
              "    [theme=dark] .colab-df-convert:hover {\n",
              "      background-color: #434B5C;\n",
              "      box-shadow: 0px 1px 3px 1px rgba(0, 0, 0, 0.15);\n",
              "      filter: drop-shadow(0px 1px 2px rgba(0, 0, 0, 0.3));\n",
              "      fill: #FFFFFF;\n",
              "    }\n",
              "  </style>\n",
              "\n",
              "      <script>\n",
              "        const buttonEl =\n",
              "          document.querySelector('#df-62985997-485d-4be7-b02a-0308266be9b4 button.colab-df-convert');\n",
              "        buttonEl.style.display =\n",
              "          google.colab.kernel.accessAllowed ? 'block' : 'none';\n",
              "\n",
              "        async function convertToInteractive(key) {\n",
              "          const element = document.querySelector('#df-62985997-485d-4be7-b02a-0308266be9b4');\n",
              "          const dataTable =\n",
              "            await google.colab.kernel.invokeFunction('convertToInteractive',\n",
              "                                                     [key], {});\n",
              "          if (!dataTable) return;\n",
              "\n",
              "          const docLinkHtml = 'Like what you see? Visit the ' +\n",
              "            '<a target=\"_blank\" href=https://colab.research.google.com/notebooks/data_table.ipynb>data table notebook</a>'\n",
              "            + ' to learn more about interactive tables.';\n",
              "          element.innerHTML = '';\n",
              "          dataTable['output_type'] = 'display_data';\n",
              "          await google.colab.output.renderOutput(dataTable, element);\n",
              "          const docLink = document.createElement('div');\n",
              "          docLink.innerHTML = docLinkHtml;\n",
              "          element.appendChild(docLink);\n",
              "        }\n",
              "      </script>\n",
              "    </div>\n",
              "  </div>\n",
              "  "
            ],
            "text/plain": [
              "          age       sex       bmi  ...        s4        s5        s6\n",
              "0    0.038076  0.050680  0.061696  ... -0.002592  0.019908 -0.017646\n",
              "1   -0.001882 -0.044642 -0.051474  ... -0.039493 -0.068330 -0.092204\n",
              "2    0.085299  0.050680  0.044451  ... -0.002592  0.002864 -0.025930\n",
              "3   -0.089063 -0.044642 -0.011595  ...  0.034309  0.022692 -0.009362\n",
              "4    0.005383 -0.044642 -0.036385  ... -0.002592 -0.031991 -0.046641\n",
              "..        ...       ...       ...  ...       ...       ...       ...\n",
              "437  0.041708  0.050680  0.019662  ... -0.002592  0.031193  0.007207\n",
              "438 -0.005515  0.050680 -0.015906  ...  0.034309 -0.018118  0.044485\n",
              "439  0.041708  0.050680 -0.015906  ... -0.011080 -0.046879  0.015491\n",
              "440 -0.045472 -0.044642  0.039062  ...  0.026560  0.044528 -0.025930\n",
              "441 -0.045472 -0.044642 -0.073030  ... -0.039493 -0.004220  0.003064\n",
              "\n",
              "[442 rows x 10 columns]"
            ]
          },
          "metadata": {},
          "execution_count": 12
        }
      ]
    },
    {
      "cell_type": "code",
      "source": [
        "y = pd.DataFrame(data['target'],columns=['target'])"
      ],
      "metadata": {
        "id": "QHqjw9B_HO-P"
      },
      "execution_count": 14,
      "outputs": []
    },
    {
      "cell_type": "code",
      "source": [
        "y"
      ],
      "metadata": {
        "colab": {
          "base_uri": "https://localhost:8080/",
          "height": 419
        },
        "id": "H-mZrBphHlCQ",
        "outputId": "faaa1197-4648-4d66-de39-c9ce07f03aa7"
      },
      "execution_count": 15,
      "outputs": [
        {
          "output_type": "execute_result",
          "data": {
            "text/html": [
              "\n",
              "  <div id=\"df-86d361f6-e89d-449c-8646-ac3d7936359e\">\n",
              "    <div class=\"colab-df-container\">\n",
              "      <div>\n",
              "<style scoped>\n",
              "    .dataframe tbody tr th:only-of-type {\n",
              "        vertical-align: middle;\n",
              "    }\n",
              "\n",
              "    .dataframe tbody tr th {\n",
              "        vertical-align: top;\n",
              "    }\n",
              "\n",
              "    .dataframe thead th {\n",
              "        text-align: right;\n",
              "    }\n",
              "</style>\n",
              "<table border=\"1\" class=\"dataframe\">\n",
              "  <thead>\n",
              "    <tr style=\"text-align: right;\">\n",
              "      <th></th>\n",
              "      <th>target</th>\n",
              "    </tr>\n",
              "  </thead>\n",
              "  <tbody>\n",
              "    <tr>\n",
              "      <th>0</th>\n",
              "      <td>151.0</td>\n",
              "    </tr>\n",
              "    <tr>\n",
              "      <th>1</th>\n",
              "      <td>75.0</td>\n",
              "    </tr>\n",
              "    <tr>\n",
              "      <th>2</th>\n",
              "      <td>141.0</td>\n",
              "    </tr>\n",
              "    <tr>\n",
              "      <th>3</th>\n",
              "      <td>206.0</td>\n",
              "    </tr>\n",
              "    <tr>\n",
              "      <th>4</th>\n",
              "      <td>135.0</td>\n",
              "    </tr>\n",
              "    <tr>\n",
              "      <th>...</th>\n",
              "      <td>...</td>\n",
              "    </tr>\n",
              "    <tr>\n",
              "      <th>437</th>\n",
              "      <td>178.0</td>\n",
              "    </tr>\n",
              "    <tr>\n",
              "      <th>438</th>\n",
              "      <td>104.0</td>\n",
              "    </tr>\n",
              "    <tr>\n",
              "      <th>439</th>\n",
              "      <td>132.0</td>\n",
              "    </tr>\n",
              "    <tr>\n",
              "      <th>440</th>\n",
              "      <td>220.0</td>\n",
              "    </tr>\n",
              "    <tr>\n",
              "      <th>441</th>\n",
              "      <td>57.0</td>\n",
              "    </tr>\n",
              "  </tbody>\n",
              "</table>\n",
              "<p>442 rows × 1 columns</p>\n",
              "</div>\n",
              "      <button class=\"colab-df-convert\" onclick=\"convertToInteractive('df-86d361f6-e89d-449c-8646-ac3d7936359e')\"\n",
              "              title=\"Convert this dataframe to an interactive table.\"\n",
              "              style=\"display:none;\">\n",
              "        \n",
              "  <svg xmlns=\"http://www.w3.org/2000/svg\" height=\"24px\"viewBox=\"0 0 24 24\"\n",
              "       width=\"24px\">\n",
              "    <path d=\"M0 0h24v24H0V0z\" fill=\"none\"/>\n",
              "    <path d=\"M18.56 5.44l.94 2.06.94-2.06 2.06-.94-2.06-.94-.94-2.06-.94 2.06-2.06.94zm-11 1L8.5 8.5l.94-2.06 2.06-.94-2.06-.94L8.5 2.5l-.94 2.06-2.06.94zm10 10l.94 2.06.94-2.06 2.06-.94-2.06-.94-.94-2.06-.94 2.06-2.06.94z\"/><path d=\"M17.41 7.96l-1.37-1.37c-.4-.4-.92-.59-1.43-.59-.52 0-1.04.2-1.43.59L10.3 9.45l-7.72 7.72c-.78.78-.78 2.05 0 2.83L4 21.41c.39.39.9.59 1.41.59.51 0 1.02-.2 1.41-.59l7.78-7.78 2.81-2.81c.8-.78.8-2.07 0-2.86zM5.41 20L4 18.59l7.72-7.72 1.47 1.35L5.41 20z\"/>\n",
              "  </svg>\n",
              "      </button>\n",
              "      \n",
              "  <style>\n",
              "    .colab-df-container {\n",
              "      display:flex;\n",
              "      flex-wrap:wrap;\n",
              "      gap: 12px;\n",
              "    }\n",
              "\n",
              "    .colab-df-convert {\n",
              "      background-color: #E8F0FE;\n",
              "      border: none;\n",
              "      border-radius: 50%;\n",
              "      cursor: pointer;\n",
              "      display: none;\n",
              "      fill: #1967D2;\n",
              "      height: 32px;\n",
              "      padding: 0 0 0 0;\n",
              "      width: 32px;\n",
              "    }\n",
              "\n",
              "    .colab-df-convert:hover {\n",
              "      background-color: #E2EBFA;\n",
              "      box-shadow: 0px 1px 2px rgba(60, 64, 67, 0.3), 0px 1px 3px 1px rgba(60, 64, 67, 0.15);\n",
              "      fill: #174EA6;\n",
              "    }\n",
              "\n",
              "    [theme=dark] .colab-df-convert {\n",
              "      background-color: #3B4455;\n",
              "      fill: #D2E3FC;\n",
              "    }\n",
              "\n",
              "    [theme=dark] .colab-df-convert:hover {\n",
              "      background-color: #434B5C;\n",
              "      box-shadow: 0px 1px 3px 1px rgba(0, 0, 0, 0.15);\n",
              "      filter: drop-shadow(0px 1px 2px rgba(0, 0, 0, 0.3));\n",
              "      fill: #FFFFFF;\n",
              "    }\n",
              "  </style>\n",
              "\n",
              "      <script>\n",
              "        const buttonEl =\n",
              "          document.querySelector('#df-86d361f6-e89d-449c-8646-ac3d7936359e button.colab-df-convert');\n",
              "        buttonEl.style.display =\n",
              "          google.colab.kernel.accessAllowed ? 'block' : 'none';\n",
              "\n",
              "        async function convertToInteractive(key) {\n",
              "          const element = document.querySelector('#df-86d361f6-e89d-449c-8646-ac3d7936359e');\n",
              "          const dataTable =\n",
              "            await google.colab.kernel.invokeFunction('convertToInteractive',\n",
              "                                                     [key], {});\n",
              "          if (!dataTable) return;\n",
              "\n",
              "          const docLinkHtml = 'Like what you see? Visit the ' +\n",
              "            '<a target=\"_blank\" href=https://colab.research.google.com/notebooks/data_table.ipynb>data table notebook</a>'\n",
              "            + ' to learn more about interactive tables.';\n",
              "          element.innerHTML = '';\n",
              "          dataTable['output_type'] = 'display_data';\n",
              "          await google.colab.output.renderOutput(dataTable, element);\n",
              "          const docLink = document.createElement('div');\n",
              "          docLink.innerHTML = docLinkHtml;\n",
              "          element.appendChild(docLink);\n",
              "        }\n",
              "      </script>\n",
              "    </div>\n",
              "  </div>\n",
              "  "
            ],
            "text/plain": [
              "     target\n",
              "0     151.0\n",
              "1      75.0\n",
              "2     141.0\n",
              "3     206.0\n",
              "4     135.0\n",
              "..      ...\n",
              "437   178.0\n",
              "438   104.0\n",
              "439   132.0\n",
              "440   220.0\n",
              "441    57.0\n",
              "\n",
              "[442 rows x 1 columns]"
            ]
          },
          "metadata": {},
          "execution_count": 15
        }
      ]
    },
    {
      "cell_type": "markdown",
      "metadata": {
        "id": "xR_yLpR01Kdr"
      },
      "source": [
        "### Prepare input data"
      ]
    },
    {
      "cell_type": "code",
      "execution_count": null,
      "metadata": {
        "id": "Sp2mf2bB1Kds"
      },
      "outputs": [],
      "source": [
        "# insert code here\n",
        "X = data.data\n",
        "y = data.target"
      ]
    },
    {
      "cell_type": "code",
      "source": [
        "X.data.shape"
      ],
      "metadata": {
        "id": "cgVRRkyWVu0Q",
        "outputId": "799705a6-ba86-48ce-d105-122a739378e6",
        "colab": {
          "base_uri": "https://localhost:8080/"
        }
      },
      "execution_count": null,
      "outputs": [
        {
          "output_type": "execute_result",
          "data": {
            "text/plain": [
              "(442, 10)"
            ]
          },
          "metadata": {},
          "execution_count": 138
        }
      ]
    },
    {
      "cell_type": "code",
      "source": [
        "y.data.shape"
      ],
      "metadata": {
        "id": "ZzJNkufCV4Pa",
        "outputId": "ce48d855-cd5c-4b48-f85e-61947de22619",
        "colab": {
          "base_uri": "https://localhost:8080/"
        }
      },
      "execution_count": null,
      "outputs": [
        {
          "output_type": "execute_result",
          "data": {
            "text/plain": [
              "(442,)"
            ]
          },
          "metadata": {},
          "execution_count": 139
        }
      ]
    },
    {
      "cell_type": "markdown",
      "metadata": {
        "id": "j1Vsh6cm1Kdv"
      },
      "source": [
        "### Split the data (training/test)"
      ]
    },
    {
      "cell_type": "code",
      "execution_count": 16,
      "metadata": {
        "id": "O341llJz1Kdw"
      },
      "outputs": [],
      "source": [
        "# insert code here\n",
        "X_train, X_test, y_train, y_test = train_test_split(\n",
        "    X, y, \n",
        "    test_size = 0.3,\n",
        "    random_state = 1)"
      ]
    },
    {
      "cell_type": "code",
      "source": [
        ""
      ],
      "metadata": {
        "id": "RtGBVOhDN9go"
      },
      "execution_count": null,
      "outputs": []
    },
    {
      "cell_type": "markdown",
      "metadata": {
        "id": "o4dJViJD1Kd0"
      },
      "source": [
        "### Create the model's architecture"
      ]
    },
    {
      "cell_type": "code",
      "execution_count": null,
      "metadata": {
        "id": "Tkgf_BLl1Kd1"
      },
      "outputs": [],
      "source": [
        "# insert code here\n",
        "n_cols = len(X[0])"
      ]
    },
    {
      "cell_type": "code",
      "source": [
        "n_cols"
      ],
      "metadata": {
        "id": "dOIG62jNVrcG",
        "outputId": "a0d8ba11-9985-4be5-94a6-08477c023302",
        "colab": {
          "base_uri": "https://localhost:8080/"
        }
      },
      "execution_count": null,
      "outputs": [
        {
          "output_type": "execute_result",
          "data": {
            "text/plain": [
              "10"
            ]
          },
          "metadata": {},
          "execution_count": 142
        }
      ]
    },
    {
      "cell_type": "code",
      "source": [
        "from keras.engine.sequential import Sequential\n",
        "model: Sequential = Sequential()"
      ],
      "metadata": {
        "id": "AlWIGO2LOUrQ"
      },
      "execution_count": 17,
      "outputs": []
    },
    {
      "cell_type": "code",
      "source": [
        "# Add the first hidden layer\n",
        "model.add(Dense(100, activation = 'relu', input_shape = (X.shape[1], )))\n",
        "# Add the second hidden layer\n",
        "model.add(Dense(50, activation = 'relu'))\n",
        "# Add the output layer\n",
        "model.add(Dense(1, activation = 'linear'))"
      ],
      "metadata": {
        "id": "XdKcItkQOyhF"
      },
      "execution_count": 19,
      "outputs": []
    },
    {
      "cell_type": "code",
      "source": [
        "print(model.summary())"
      ],
      "metadata": {
        "id": "zpXhsjNFPHO6",
        "outputId": "5035ba1c-63ca-459f-c820-34676c5ecfb2",
        "colab": {
          "base_uri": "https://localhost:8080/"
        }
      },
      "execution_count": 20,
      "outputs": [
        {
          "output_type": "stream",
          "name": "stdout",
          "text": [
            "Model: \"sequential\"\n",
            "_________________________________________________________________\n",
            " Layer (type)                Output Shape              Param #   \n",
            "=================================================================\n",
            " dense (Dense)               (None, 100)               1100      \n",
            "                                                                 \n",
            " dense_1 (Dense)             (None, 50)                5050      \n",
            "                                                                 \n",
            " dense_2 (Dense)             (None, 1)                 51        \n",
            "                                                                 \n",
            "=================================================================\n",
            "Total params: 6,201\n",
            "Trainable params: 6,201\n",
            "Non-trainable params: 0\n",
            "_________________________________________________________________\n",
            "None\n"
          ]
        }
      ]
    },
    {
      "cell_type": "markdown",
      "metadata": {
        "id": "5hQTS42V1Kd4"
      },
      "source": [
        "### Compile the model"
      ]
    },
    {
      "cell_type": "code",
      "execution_count": 21,
      "metadata": {
        "id": "BvLsoanF1Kd5"
      },
      "outputs": [],
      "source": [
        "# insert code here\n",
        "model.compile(\n",
        "    optimizer = 'adam',\n",
        "    loss = 'mse',\n",
        "    metrics = ['mse'])"
      ]
    },
    {
      "cell_type": "markdown",
      "metadata": {
        "id": "6KPQbnEj1Kd7"
      },
      "source": [
        "### Fit the training data"
      ]
    },
    {
      "cell_type": "code",
      "execution_count": 22,
      "metadata": {
        "colab": {
          "base_uri": "https://localhost:8080/"
        },
        "id": "-oiuHjEj1Kd8",
        "outputId": "3e00c840-7ca9-437d-c419-141374234776"
      },
      "outputs": [
        {
          "output_type": "stream",
          "name": "stdout",
          "text": [
            "Epoch 1/100\n",
            "12/12 [==============================] - 1s 25ms/step - loss: 29507.8945 - mse: 29507.8945 - val_loss: 31472.0586 - val_mse: 31472.0586\n",
            "Epoch 2/100\n",
            "12/12 [==============================] - 0s 6ms/step - loss: 29437.9668 - mse: 29437.9668 - val_loss: 31371.3652 - val_mse: 31371.3652\n",
            "Epoch 3/100\n",
            "12/12 [==============================] - 0s 5ms/step - loss: 29311.1758 - mse: 29311.1758 - val_loss: 31189.2656 - val_mse: 31189.2656\n",
            "Epoch 4/100\n",
            "12/12 [==============================] - 0s 6ms/step - loss: 29087.4082 - mse: 29087.4082 - val_loss: 30876.1797 - val_mse: 30876.1797\n",
            "Epoch 5/100\n",
            "12/12 [==============================] - 0s 6ms/step - loss: 28706.9062 - mse: 28706.9062 - val_loss: 30379.6348 - val_mse: 30379.6348\n",
            "Epoch 6/100\n",
            "12/12 [==============================] - 0s 7ms/step - loss: 28124.9570 - mse: 28124.9570 - val_loss: 29638.1289 - val_mse: 29638.1289\n",
            "Epoch 7/100\n",
            "12/12 [==============================] - 0s 7ms/step - loss: 27290.3203 - mse: 27290.3203 - val_loss: 28600.7051 - val_mse: 28600.7051\n",
            "Epoch 8/100\n",
            "12/12 [==============================] - 0s 5ms/step - loss: 26160.0449 - mse: 26160.0449 - val_loss: 27221.9414 - val_mse: 27221.9414\n",
            "Epoch 9/100\n",
            "12/12 [==============================] - 0s 6ms/step - loss: 24703.8887 - mse: 24703.8887 - val_loss: 25489.9512 - val_mse: 25489.9512\n",
            "Epoch 10/100\n",
            "12/12 [==============================] - 0s 6ms/step - loss: 22862.8379 - mse: 22862.8379 - val_loss: 23431.1270 - val_mse: 23431.1270\n",
            "Epoch 11/100\n",
            "12/12 [==============================] - 0s 6ms/step - loss: 20784.3594 - mse: 20784.3594 - val_loss: 20994.0645 - val_mse: 20994.0645\n",
            "Epoch 12/100\n",
            "12/12 [==============================] - 0s 6ms/step - loss: 18356.0430 - mse: 18356.0430 - val_loss: 18347.7012 - val_mse: 18347.7012\n",
            "Epoch 13/100\n",
            "12/12 [==============================] - 0s 6ms/step - loss: 15814.9082 - mse: 15814.9082 - val_loss: 15563.2480 - val_mse: 15563.2480\n",
            "Epoch 14/100\n",
            "12/12 [==============================] - 0s 6ms/step - loss: 13151.2832 - mse: 13151.2832 - val_loss: 12848.3389 - val_mse: 12848.3389\n",
            "Epoch 15/100\n",
            "12/12 [==============================] - 0s 5ms/step - loss: 10678.2871 - mse: 10678.2871 - val_loss: 10323.4629 - val_mse: 10323.4629\n",
            "Epoch 16/100\n",
            "12/12 [==============================] - 0s 7ms/step - loss: 8549.1406 - mse: 8549.1406 - val_loss: 8135.4712 - val_mse: 8135.4712\n",
            "Epoch 17/100\n",
            "12/12 [==============================] - 0s 5ms/step - loss: 6835.1382 - mse: 6835.1382 - val_loss: 6494.5366 - val_mse: 6494.5366\n",
            "Epoch 18/100\n",
            "12/12 [==============================] - 0s 7ms/step - loss: 5588.2500 - mse: 5588.2500 - val_loss: 5416.9912 - val_mse: 5416.9912\n",
            "Epoch 19/100\n",
            "12/12 [==============================] - 0s 6ms/step - loss: 4860.4858 - mse: 4860.4858 - val_loss: 4725.9360 - val_mse: 4725.9360\n",
            "Epoch 20/100\n",
            "12/12 [==============================] - 0s 5ms/step - loss: 4458.8125 - mse: 4458.8120 - val_loss: 4337.6680 - val_mse: 4337.6680\n",
            "Epoch 21/100\n",
            "12/12 [==============================] - 0s 4ms/step - loss: 4248.8545 - mse: 4248.8545 - val_loss: 4135.3550 - val_mse: 4135.3550\n",
            "Epoch 22/100\n",
            "12/12 [==============================] - 0s 6ms/step - loss: 4152.7471 - mse: 4152.7471 - val_loss: 4000.8518 - val_mse: 4000.8518\n",
            "Epoch 23/100\n",
            "12/12 [==============================] - 0s 6ms/step - loss: 4076.2410 - mse: 4076.2410 - val_loss: 3922.4795 - val_mse: 3922.4795\n",
            "Epoch 24/100\n",
            "12/12 [==============================] - 0s 6ms/step - loss: 4020.7302 - mse: 4020.7302 - val_loss: 3863.3032 - val_mse: 3863.3032\n",
            "Epoch 25/100\n",
            "12/12 [==============================] - 0s 4ms/step - loss: 3968.3010 - mse: 3968.3010 - val_loss: 3818.8569 - val_mse: 3818.8569\n",
            "Epoch 26/100\n",
            "12/12 [==============================] - 0s 4ms/step - loss: 3917.8701 - mse: 3917.8701 - val_loss: 3761.2976 - val_mse: 3761.2976\n",
            "Epoch 27/100\n",
            "12/12 [==============================] - 0s 4ms/step - loss: 3876.1467 - mse: 3876.1467 - val_loss: 3706.8657 - val_mse: 3706.8657\n",
            "Epoch 28/100\n",
            "12/12 [==============================] - 0s 5ms/step - loss: 3833.2065 - mse: 3833.2065 - val_loss: 3683.9470 - val_mse: 3683.9470\n",
            "Epoch 29/100\n",
            "12/12 [==============================] - 0s 5ms/step - loss: 3785.5339 - mse: 3785.5339 - val_loss: 3637.4905 - val_mse: 3637.4905\n",
            "Epoch 30/100\n",
            "12/12 [==============================] - 0s 6ms/step - loss: 3748.8989 - mse: 3748.8989 - val_loss: 3600.2249 - val_mse: 3600.2249\n",
            "Epoch 31/100\n",
            "12/12 [==============================] - 0s 4ms/step - loss: 3710.2148 - mse: 3710.2148 - val_loss: 3575.5681 - val_mse: 3575.5681\n",
            "Epoch 32/100\n",
            "12/12 [==============================] - 0s 4ms/step - loss: 3685.1924 - mse: 3685.1924 - val_loss: 3560.7483 - val_mse: 3560.7483\n",
            "Epoch 33/100\n",
            "12/12 [==============================] - 0s 5ms/step - loss: 3652.9985 - mse: 3652.9985 - val_loss: 3500.6387 - val_mse: 3500.6387\n",
            "Epoch 34/100\n",
            "12/12 [==============================] - 0s 5ms/step - loss: 3617.3501 - mse: 3617.3501 - val_loss: 3491.2581 - val_mse: 3491.2581\n",
            "Epoch 35/100\n",
            "12/12 [==============================] - 0s 5ms/step - loss: 3586.2505 - mse: 3586.2505 - val_loss: 3452.3806 - val_mse: 3452.3806\n",
            "Epoch 36/100\n",
            "12/12 [==============================] - 0s 7ms/step - loss: 3558.3132 - mse: 3558.3132 - val_loss: 3428.2014 - val_mse: 3428.2014\n",
            "Epoch 37/100\n",
            "12/12 [==============================] - 0s 7ms/step - loss: 3529.9790 - mse: 3529.9790 - val_loss: 3415.3901 - val_mse: 3415.3901\n",
            "Epoch 38/100\n",
            "12/12 [==============================] - 0s 7ms/step - loss: 3510.3604 - mse: 3510.3604 - val_loss: 3403.0325 - val_mse: 3403.0325\n",
            "Epoch 39/100\n",
            "12/12 [==============================] - 0s 7ms/step - loss: 3482.3320 - mse: 3482.3320 - val_loss: 3377.2849 - val_mse: 3377.2849\n",
            "Epoch 40/100\n",
            "12/12 [==============================] - 0s 5ms/step - loss: 3464.5891 - mse: 3464.5891 - val_loss: 3377.7957 - val_mse: 3377.7957\n",
            "Epoch 41/100\n",
            "12/12 [==============================] - 0s 5ms/step - loss: 3441.5996 - mse: 3441.5996 - val_loss: 3327.3752 - val_mse: 3327.3752\n",
            "Epoch 42/100\n",
            "12/12 [==============================] - 0s 6ms/step - loss: 3420.6111 - mse: 3420.6111 - val_loss: 3289.6243 - val_mse: 3289.6243\n",
            "Epoch 43/100\n",
            "12/12 [==============================] - 0s 6ms/step - loss: 3397.3831 - mse: 3397.3831 - val_loss: 3290.1111 - val_mse: 3290.1111\n",
            "Epoch 44/100\n",
            "12/12 [==============================] - 0s 5ms/step - loss: 3385.8257 - mse: 3385.8257 - val_loss: 3294.9326 - val_mse: 3294.9326\n",
            "Epoch 45/100\n",
            "12/12 [==============================] - 0s 6ms/step - loss: 3367.1882 - mse: 3367.1882 - val_loss: 3241.2512 - val_mse: 3241.2512\n",
            "Epoch 46/100\n",
            "12/12 [==============================] - 0s 5ms/step - loss: 3344.1064 - mse: 3344.1064 - val_loss: 3243.7854 - val_mse: 3243.7854\n",
            "Epoch 47/100\n",
            "12/12 [==============================] - 0s 7ms/step - loss: 3328.6748 - mse: 3328.6748 - val_loss: 3219.5601 - val_mse: 3219.5601\n",
            "Epoch 48/100\n",
            "12/12 [==============================] - 0s 5ms/step - loss: 3307.7297 - mse: 3307.7297 - val_loss: 3214.4116 - val_mse: 3214.4116\n",
            "Epoch 49/100\n",
            "12/12 [==============================] - 0s 6ms/step - loss: 3292.3755 - mse: 3292.3755 - val_loss: 3229.6169 - val_mse: 3229.6169\n",
            "Epoch 50/100\n",
            "12/12 [==============================] - 0s 7ms/step - loss: 3280.9260 - mse: 3280.9260 - val_loss: 3216.8364 - val_mse: 3216.8364\n",
            "Epoch 51/100\n",
            "12/12 [==============================] - 0s 6ms/step - loss: 3266.4966 - mse: 3266.4966 - val_loss: 3202.5925 - val_mse: 3202.5925\n",
            "Epoch 52/100\n",
            "12/12 [==============================] - 0s 6ms/step - loss: 3251.2939 - mse: 3251.2939 - val_loss: 3190.2170 - val_mse: 3190.2170\n",
            "Epoch 53/100\n",
            "12/12 [==============================] - 0s 7ms/step - loss: 3239.9595 - mse: 3239.9590 - val_loss: 3185.0110 - val_mse: 3185.0110\n",
            "Epoch 54/100\n",
            "12/12 [==============================] - 0s 7ms/step - loss: 3229.0569 - mse: 3229.0569 - val_loss: 3168.3459 - val_mse: 3168.3459\n",
            "Epoch 55/100\n",
            "12/12 [==============================] - 0s 7ms/step - loss: 3216.1370 - mse: 3216.1370 - val_loss: 3140.1567 - val_mse: 3140.1567\n",
            "Epoch 56/100\n",
            "12/12 [==============================] - 0s 6ms/step - loss: 3205.5046 - mse: 3205.5046 - val_loss: 3142.8057 - val_mse: 3142.8057\n",
            "Epoch 57/100\n",
            "12/12 [==============================] - 0s 6ms/step - loss: 3195.0369 - mse: 3195.0369 - val_loss: 3144.4324 - val_mse: 3144.4324\n",
            "Epoch 58/100\n",
            "12/12 [==============================] - 0s 8ms/step - loss: 3182.6191 - mse: 3182.6191 - val_loss: 3140.2114 - val_mse: 3140.2114\n",
            "Epoch 59/100\n",
            "12/12 [==============================] - 0s 7ms/step - loss: 3174.6260 - mse: 3174.6260 - val_loss: 3100.0598 - val_mse: 3100.0598\n",
            "Epoch 60/100\n",
            "12/12 [==============================] - 0s 6ms/step - loss: 3167.9866 - mse: 3167.9866 - val_loss: 3098.9192 - val_mse: 3098.9192\n",
            "Epoch 61/100\n",
            "12/12 [==============================] - 0s 5ms/step - loss: 3152.5950 - mse: 3152.5950 - val_loss: 3098.0183 - val_mse: 3098.0183\n",
            "Epoch 62/100\n",
            "12/12 [==============================] - 0s 7ms/step - loss: 3143.9407 - mse: 3143.9407 - val_loss: 3098.9739 - val_mse: 3098.9739\n",
            "Epoch 63/100\n",
            "12/12 [==============================] - 0s 6ms/step - loss: 3134.4795 - mse: 3134.4795 - val_loss: 3108.4705 - val_mse: 3108.4705\n",
            "Epoch 64/100\n",
            "12/12 [==============================] - 0s 6ms/step - loss: 3126.8655 - mse: 3126.8655 - val_loss: 3100.4744 - val_mse: 3100.4744\n",
            "Epoch 65/100\n",
            "12/12 [==============================] - 0s 5ms/step - loss: 3116.3130 - mse: 3116.3130 - val_loss: 3079.2817 - val_mse: 3079.2817\n",
            "Epoch 66/100\n",
            "12/12 [==============================] - 0s 5ms/step - loss: 3113.0845 - mse: 3113.0845 - val_loss: 3082.2332 - val_mse: 3082.2332\n",
            "Epoch 67/100\n",
            "12/12 [==============================] - 0s 5ms/step - loss: 3102.9490 - mse: 3102.9490 - val_loss: 3059.9976 - val_mse: 3059.9976\n",
            "Epoch 68/100\n",
            "12/12 [==============================] - 0s 5ms/step - loss: 3097.1599 - mse: 3097.1599 - val_loss: 3047.9736 - val_mse: 3047.9736\n",
            "Epoch 69/100\n",
            "12/12 [==============================] - 0s 6ms/step - loss: 3088.1619 - mse: 3088.1619 - val_loss: 3064.5664 - val_mse: 3064.5664\n",
            "Epoch 70/100\n",
            "12/12 [==============================] - 0s 5ms/step - loss: 3082.6628 - mse: 3082.6628 - val_loss: 3081.7092 - val_mse: 3081.7092\n",
            "Epoch 71/100\n",
            "12/12 [==============================] - 0s 5ms/step - loss: 3073.3931 - mse: 3073.3931 - val_loss: 3057.3137 - val_mse: 3057.3137\n",
            "Epoch 72/100\n",
            "12/12 [==============================] - 0s 5ms/step - loss: 3073.0457 - mse: 3073.0457 - val_loss: 3037.3354 - val_mse: 3037.3352\n",
            "Epoch 73/100\n",
            "12/12 [==============================] - 0s 5ms/step - loss: 3061.5522 - mse: 3061.5522 - val_loss: 3059.9678 - val_mse: 3059.9678\n",
            "Epoch 74/100\n",
            "12/12 [==============================] - 0s 5ms/step - loss: 3055.7202 - mse: 3055.7202 - val_loss: 3059.9883 - val_mse: 3059.9883\n",
            "Epoch 75/100\n",
            "12/12 [==============================] - 0s 4ms/step - loss: 3050.7900 - mse: 3050.7900 - val_loss: 3060.6543 - val_mse: 3060.6545\n",
            "Epoch 76/100\n",
            "12/12 [==============================] - 0s 6ms/step - loss: 3047.3306 - mse: 3047.3306 - val_loss: 3033.8164 - val_mse: 3033.8164\n",
            "Epoch 77/100\n",
            "12/12 [==============================] - 0s 6ms/step - loss: 3041.6360 - mse: 3041.6360 - val_loss: 3021.1626 - val_mse: 3021.1626\n",
            "Epoch 78/100\n",
            "12/12 [==============================] - 0s 6ms/step - loss: 3034.6589 - mse: 3034.6589 - val_loss: 3031.7893 - val_mse: 3031.7893\n",
            "Epoch 79/100\n",
            "12/12 [==============================] - 0s 5ms/step - loss: 3028.3706 - mse: 3028.3706 - val_loss: 3019.2063 - val_mse: 3019.2063\n",
            "Epoch 80/100\n",
            "12/12 [==============================] - 0s 5ms/step - loss: 3022.8735 - mse: 3022.8735 - val_loss: 3024.5393 - val_mse: 3024.5393\n",
            "Epoch 81/100\n",
            "12/12 [==============================] - 0s 6ms/step - loss: 3022.2319 - mse: 3022.2319 - val_loss: 3012.0769 - val_mse: 3012.0769\n",
            "Epoch 82/100\n",
            "12/12 [==============================] - 0s 5ms/step - loss: 3017.3005 - mse: 3017.3008 - val_loss: 3043.1902 - val_mse: 3043.1902\n",
            "Epoch 83/100\n",
            "12/12 [==============================] - 0s 6ms/step - loss: 3015.6816 - mse: 3015.6816 - val_loss: 3064.7058 - val_mse: 3064.7058\n",
            "Epoch 84/100\n",
            "12/12 [==============================] - 0s 4ms/step - loss: 3009.0542 - mse: 3009.0544 - val_loss: 3018.3762 - val_mse: 3018.3762\n",
            "Epoch 85/100\n",
            "12/12 [==============================] - 0s 4ms/step - loss: 3002.5752 - mse: 3002.5752 - val_loss: 3009.5920 - val_mse: 3009.5920\n",
            "Epoch 86/100\n",
            "12/12 [==============================] - 0s 4ms/step - loss: 2996.0527 - mse: 2996.0527 - val_loss: 3044.2246 - val_mse: 3044.2246\n",
            "Epoch 87/100\n",
            "12/12 [==============================] - 0s 6ms/step - loss: 2992.2051 - mse: 2992.2051 - val_loss: 3033.7305 - val_mse: 3033.7305\n",
            "Epoch 88/100\n",
            "12/12 [==============================] - 0s 6ms/step - loss: 2991.7253 - mse: 2991.7251 - val_loss: 3035.4661 - val_mse: 3035.4661\n",
            "Epoch 89/100\n",
            "12/12 [==============================] - 0s 5ms/step - loss: 2987.0022 - mse: 2987.0022 - val_loss: 3034.2683 - val_mse: 3034.2683\n",
            "Epoch 90/100\n",
            "12/12 [==============================] - 0s 6ms/step - loss: 2985.1621 - mse: 2985.1621 - val_loss: 3011.2339 - val_mse: 3011.2339\n",
            "Epoch 91/100\n",
            "12/12 [==============================] - 0s 6ms/step - loss: 2979.1899 - mse: 2979.1899 - val_loss: 3026.2942 - val_mse: 3026.2942\n",
            "Epoch 92/100\n",
            "12/12 [==============================] - 0s 6ms/step - loss: 2974.7720 - mse: 2974.7720 - val_loss: 3017.3064 - val_mse: 3017.3064\n",
            "Epoch 93/100\n",
            "12/12 [==============================] - 0s 6ms/step - loss: 2972.3093 - mse: 2972.3096 - val_loss: 3017.8208 - val_mse: 3017.8208\n",
            "Epoch 94/100\n",
            "12/12 [==============================] - 0s 5ms/step - loss: 2972.2485 - mse: 2972.2485 - val_loss: 3012.5222 - val_mse: 3012.5225\n",
            "Epoch 95/100\n",
            "12/12 [==============================] - 0s 5ms/step - loss: 2974.5581 - mse: 2974.5581 - val_loss: 3013.9182 - val_mse: 3013.9182\n",
            "Epoch 96/100\n",
            "12/12 [==============================] - 0s 5ms/step - loss: 2961.3186 - mse: 2961.3186 - val_loss: 3027.9431 - val_mse: 3027.9431\n",
            "Epoch 97/100\n",
            "12/12 [==============================] - 0s 4ms/step - loss: 2961.8025 - mse: 2961.8025 - val_loss: 3011.1216 - val_mse: 3011.1216\n",
            "Epoch 98/100\n",
            "12/12 [==============================] - 0s 6ms/step - loss: 2959.0442 - mse: 2959.0442 - val_loss: 3038.7456 - val_mse: 3038.7456\n",
            "Epoch 99/100\n",
            "12/12 [==============================] - 0s 6ms/step - loss: 2952.4209 - mse: 2952.4214 - val_loss: 3023.8159 - val_mse: 3023.8159\n",
            "Epoch 100/100\n",
            "12/12 [==============================] - 0s 5ms/step - loss: 2950.6023 - mse: 2950.6023 - val_loss: 3014.2273 - val_mse: 3014.2273\n",
            "CPU times: user 7.73 s, sys: 517 ms, total: 8.25 s\n",
            "Wall time: 11 s\n"
          ]
        }
      ],
      "source": [
        "%%time\n",
        "# insert code here\n",
        "fitted_model = model.fit(\n",
        "    X_train,\n",
        "    y_train,\n",
        "    validation_split = 0.25,\n",
        "    batch_size = 20,\n",
        "    epochs = 100,\n",
        "    verbose = 1)"
      ]
    },
    {
      "cell_type": "markdown",
      "metadata": {
        "id": "CR-kCu3c1Kd-"
      },
      "source": [
        "### Create predictions"
      ]
    },
    {
      "cell_type": "code",
      "execution_count": 23,
      "metadata": {
        "colab": {
          "base_uri": "https://localhost:8080/"
        },
        "id": "wkywKqPg1Kd-",
        "outputId": "f67c6b11-cfc5-4fad-c860-2c09fe16f18a"
      },
      "outputs": [
        {
          "output_type": "execute_result",
          "data": {
            "text/plain": [
              "array([[102.32923 ],\n",
              "       [ 94.8316  ],\n",
              "       [178.06984 ],\n",
              "       [ 63.00055 ],\n",
              "       [176.84715 ],\n",
              "       [192.2249  ],\n",
              "       [221.80249 ],\n",
              "       [135.89328 ],\n",
              "       [160.47446 ],\n",
              "       [127.36577 ],\n",
              "       [192.69612 ],\n",
              "       [189.2339  ],\n",
              "       [ 95.341415],\n",
              "       [ 68.49889 ],\n",
              "       [223.94917 ],\n",
              "       [202.43166 ],\n",
              "       [179.47899 ],\n",
              "       [ 92.3355  ],\n",
              "       [133.03978 ],\n",
              "       [165.3983  ],\n",
              "       [196.63461 ],\n",
              "       [ 90.70603 ],\n",
              "       [138.36513 ],\n",
              "       [ 93.77288 ],\n",
              "       [ 84.80298 ],\n",
              "       [199.41676 ],\n",
              "       [ 92.276024],\n",
              "       [162.94235 ],\n",
              "       [133.88988 ],\n",
              "       [185.80582 ],\n",
              "       [160.47383 ],\n",
              "       [129.36526 ],\n",
              "       [170.08516 ],\n",
              "       [ 90.940506],\n",
              "       [151.12419 ],\n",
              "       [187.57521 ],\n",
              "       [ 96.41778 ],\n",
              "       [231.81331 ],\n",
              "       [169.44499 ],\n",
              "       [182.10628 ],\n",
              "       [157.28844 ],\n",
              "       [180.26538 ],\n",
              "       [124.83051 ],\n",
              "       [127.52769 ],\n",
              "       [130.90372 ],\n",
              "       [205.4637  ],\n",
              "       [132.04752 ],\n",
              "       [130.80763 ],\n",
              "       [182.24214 ],\n",
              "       [199.80934 ],\n",
              "       [ 70.530914],\n",
              "       [162.35616 ],\n",
              "       [112.99226 ],\n",
              "       [139.20908 ],\n",
              "       [188.45848 ],\n",
              "       [126.58915 ],\n",
              "       [158.63115 ],\n",
              "       [101.414894],\n",
              "       [ 65.57455 ],\n",
              "       [ 86.804695],\n",
              "       [ 96.3902  ],\n",
              "       [181.65424 ],\n",
              "       [164.8297  ],\n",
              "       [100.90148 ],\n",
              "       [266.8878  ],\n",
              "       [ 76.50407 ],\n",
              "       [ 82.27882 ],\n",
              "       [154.05582 ],\n",
              "       [177.77306 ],\n",
              "       [ 57.579014],\n",
              "       [152.7851  ],\n",
              "       [ 91.16825 ],\n",
              "       [ 87.64924 ],\n",
              "       [143.75264 ],\n",
              "       [154.4405  ],\n",
              "       [ 84.46268 ],\n",
              "       [123.80216 ],\n",
              "       [ 87.32796 ],\n",
              "       [229.7888  ],\n",
              "       [181.77019 ],\n",
              "       [ 95.00489 ],\n",
              "       [114.13732 ],\n",
              "       [140.11525 ],\n",
              "       [157.79451 ],\n",
              "       [107.38753 ],\n",
              "       [116.008224],\n",
              "       [ 97.28027 ],\n",
              "       [ 60.793343],\n",
              "       [246.03676 ],\n",
              "       [104.36596 ],\n",
              "       [154.87108 ],\n",
              "       [166.15831 ],\n",
              "       [124.80424 ],\n",
              "       [ 67.42559 ],\n",
              "       [ 73.89905 ],\n",
              "       [164.68935 ],\n",
              "       [114.26429 ],\n",
              "       [120.39645 ],\n",
              "       [180.39737 ],\n",
              "       [177.69044 ],\n",
              "       [135.02061 ],\n",
              "       [ 62.007053],\n",
              "       [106.37069 ],\n",
              "       [172.20827 ],\n",
              "       [219.2889  ],\n",
              "       [118.01317 ],\n",
              "       [242.68004 ],\n",
              "       [241.42528 ],\n",
              "       [123.15595 ],\n",
              "       [ 50.700714],\n",
              "       [150.26491 ],\n",
              "       [222.98909 ],\n",
              "       [201.14473 ],\n",
              "       [ 67.61761 ],\n",
              "       [172.76888 ],\n",
              "       [134.11668 ],\n",
              "       [112.22252 ],\n",
              "       [ 71.25518 ],\n",
              "       [180.15157 ],\n",
              "       [146.79222 ],\n",
              "       [ 59.644024],\n",
              "       [271.04437 ],\n",
              "       [218.22124 ],\n",
              "       [153.45662 ],\n",
              "       [153.16202 ],\n",
              "       [167.6133  ],\n",
              "       [112.088196],\n",
              "       [171.76042 ],\n",
              "       [174.36269 ],\n",
              "       [125.66872 ],\n",
              "       [120.75053 ],\n",
              "       [176.40013 ],\n",
              "       [115.66785 ]], dtype=float32)"
            ]
          },
          "metadata": {},
          "execution_count": 23
        }
      ],
      "source": [
        "# insert code here\n",
        "predictions = model.predict(X_test)\n",
        "predictions"
      ]
    },
    {
      "cell_type": "markdown",
      "metadata": {
        "id": "-unEmrGo1KeA"
      },
      "source": [
        "### Evaluate the model"
      ]
    },
    {
      "cell_type": "code",
      "execution_count": 24,
      "metadata": {
        "colab": {
          "base_uri": "https://localhost:8080/"
        },
        "id": "QCIVpVrG1KeB",
        "outputId": "09c96687-95ca-47fe-9ac7-e41f7bb110dd"
      },
      "outputs": [
        {
          "output_type": "stream",
          "name": "stdout",
          "text": [
            "1/1 [==============================] - 0s 26ms/step - loss: 2871.4363 - mse: 2871.4363\n",
            "\n",
            "Test loss: 2871.436279, Test accuracy: 2871.436279\n"
          ]
        }
      ],
      "source": [
        "# insert code here\n",
        "score = model.evaluate(X_test, y_test, batch_size = 315)\n",
        "print('\\nTest loss: %.6f, Test accuracy: %.6f' % tuple(score))"
      ]
    },
    {
      "cell_type": "code",
      "source": [
        "predictions"
      ],
      "metadata": {
        "id": "G3UwbKq8l3Up",
        "outputId": "5770bda9-c41d-4b00-b3f1-457c59345cfe",
        "colab": {
          "base_uri": "https://localhost:8080/"
        }
      },
      "execution_count": null,
      "outputs": [
        {
          "output_type": "execute_result",
          "data": {
            "text/plain": [
              "array([[180.8866  ],\n",
              "       [191.41367 ],\n",
              "       [166.49924 ],\n",
              "       [248.53984 ],\n",
              "       [181.225   ],\n",
              "       [267.30652 ],\n",
              "       [156.55711 ],\n",
              "       [ 63.16801 ],\n",
              "       [149.9561  ],\n",
              "       [177.9379  ],\n",
              "       [226.57066 ],\n",
              "       [197.67667 ],\n",
              "       [103.00855 ],\n",
              "       [224.48575 ],\n",
              "       [100.59019 ],\n",
              "       [211.25035 ],\n",
              "       [ 80.618835],\n",
              "       [125.5426  ],\n",
              "       [134.7795  ],\n",
              "       [152.13954 ],\n",
              "       [ 82.08635 ],\n",
              "       [ 83.62086 ],\n",
              "       [183.67824 ],\n",
              "       [128.76411 ],\n",
              "       [226.00377 ],\n",
              "       [183.44778 ],\n",
              "       [114.830765],\n",
              "       [ 95.92123 ],\n",
              "       [175.37903 ],\n",
              "       [228.69032 ],\n",
              "       [234.80293 ],\n",
              "       [239.44107 ],\n",
              "       [150.4726  ],\n",
              "       [126.93568 ],\n",
              "       [126.34586 ],\n",
              "       [156.52702 ],\n",
              "       [111.00836 ],\n",
              "       [227.22414 ],\n",
              "       [206.1629  ],\n",
              "       [128.3827  ],\n",
              "       [111.140205],\n",
              "       [122.18764 ],\n",
              "       [190.5603  ],\n",
              "       [231.38179 ],\n",
              "       [148.32832 ],\n",
              "       [243.16248 ],\n",
              "       [164.7047  ],\n",
              "       [191.34839 ],\n",
              "       [162.94016 ],\n",
              "       [129.48065 ],\n",
              "       [137.91461 ],\n",
              "       [206.76973 ],\n",
              "       [175.65474 ],\n",
              "       [157.91899 ],\n",
              "       [194.80263 ],\n",
              "       [ 67.674576],\n",
              "       [166.33163 ],\n",
              "       [116.38297 ],\n",
              "       [170.7677  ],\n",
              "       [ 84.993706],\n",
              "       [143.51079 ],\n",
              "       [148.97423 ],\n",
              "       [195.25829 ],\n",
              "       [259.85516 ],\n",
              "       [181.41904 ],\n",
              "       [155.35759 ],\n",
              "       [122.18393 ],\n",
              "       [197.28746 ],\n",
              "       [206.61166 ],\n",
              "       [113.15146 ],\n",
              "       [164.76918 ],\n",
              "       [168.34363 ],\n",
              "       [ 87.81147 ],\n",
              "       [ 85.6964  ],\n",
              "       [ 64.46901 ],\n",
              "       [123.846405],\n",
              "       [223.99988 ],\n",
              "       [ 78.75042 ],\n",
              "       [259.9232  ],\n",
              "       [121.24127 ],\n",
              "       [169.39293 ],\n",
              "       [209.60324 ],\n",
              "       [127.3617  ],\n",
              "       [ 77.00099 ],\n",
              "       [187.843   ],\n",
              "       [203.97852 ],\n",
              "       [ 95.05174 ],\n",
              "       [173.04517 ],\n",
              "       [214.13028 ],\n",
              "       [182.65076 ],\n",
              "       [ 81.96926 ],\n",
              "       [171.89442 ],\n",
              "       [201.1828  ],\n",
              "       [135.94772 ],\n",
              "       [230.4883  ],\n",
              "       [ 81.00497 ],\n",
              "       [144.4267  ],\n",
              "       [143.39986 ],\n",
              "       [ 86.578026],\n",
              "       [164.27682 ],\n",
              "       [179.34787 ],\n",
              "       [123.35063 ],\n",
              "       [150.72362 ],\n",
              "       [187.03015 ],\n",
              "       [179.10208 ],\n",
              "       [ 91.65399 ],\n",
              "       [170.56252 ],\n",
              "       [262.89258 ],\n",
              "       [ 81.09955 ],\n",
              "       [217.04266 ],\n",
              "       [185.45668 ],\n",
              "       [179.4713  ],\n",
              "       [312.3883  ],\n",
              "       [110.299675],\n",
              "       [294.137   ],\n",
              "       [122.82342 ],\n",
              "       [ 80.5064  ],\n",
              "       [246.30975 ],\n",
              "       [159.26959 ],\n",
              "       [120.27744 ],\n",
              "       [249.78568 ],\n",
              "       [116.90806 ],\n",
              "       [193.01173 ],\n",
              "       [153.0382  ],\n",
              "       [112.41868 ],\n",
              "       [243.65851 ],\n",
              "       [160.60619 ],\n",
              "       [114.08826 ],\n",
              "       [152.74232 ],\n",
              "       [ 52.664497],\n",
              "       [122.12101 ],\n",
              "       [161.00586 ],\n",
              "       [260.26584 ]], dtype=float32)"
            ]
          },
          "metadata": {},
          "execution_count": 187
        }
      ]
    },
    {
      "cell_type": "markdown",
      "metadata": {
        "id": "sSlqjs7e1KeD"
      },
      "source": [
        "### Visualisation of cost"
      ]
    },
    {
      "cell_type": "code",
      "execution_count": 26,
      "metadata": {
        "colab": {
          "base_uri": "https://localhost:8080/",
          "height": 287
        },
        "id": "1F6hYpNh1KeE",
        "scrolled": true,
        "outputId": "36eaa0b5-0746-4e0d-825d-05f539cfcc79"
      },
      "outputs": [
        {
          "output_type": "display_data",
          "data": {
            "image/png": "[encoded data removed]",
            "text/plain": [
              "<Figure size 1296x432 with 2 Axes>"
            ]
          },
          "metadata": {
            "needs_background": "light"
          }
        }
      ],
      "source": [
        "# insert code here\n",
        "fig, ax = plt.subplots(1, 2, figsize = (18, 6))\n",
        "fig.subplots_adjust(left = 0.02, right = 0.98, wspace = 0.2)\n",
        "\n",
        "plt.rcParams.update({'font.size': 18})\n",
        "\n",
        "# Plot training & validation accuracy values\n",
        "ax[0].plot(fitted_model.history['mse'], label = 'Training')\n",
        "ax[0].plot(fitted_model.history['val_mse'], label = 'Validation')\n",
        "ax[0].set_title('Model MSE')\n",
        "ax[0].set_ylabel('MSE')\n",
        "ax[0].set_xlabel('Epoch')\n",
        "ax[0].legend()\n",
        "\n",
        "# Plot training & validation loss values\n",
        "ax[1].plot(fitted_model.history['loss'], label = 'Training')\n",
        "ax[1].plot(fitted_model.history['val_loss'], label = 'Validation')\n",
        "ax[1].set_title('Model loss')\n",
        "ax[1].set_ylabel('Loss')\n",
        "ax[1].set_xlabel('Epoch')\n",
        "ax[1].legend()\n",
        "\n",
        "plt.show()"
      ]
    },
    {
      "cell_type": "code",
      "source": [
        "predictions"
      ],
      "metadata": {
        "id": "gbJvPU9lehpy",
        "outputId": "329bb34b-8b08-44f0-bd04-84510871548d",
        "colab": {
          "base_uri": "https://localhost:8080/"
        }
      },
      "execution_count": null,
      "outputs": [
        {
          "output_type": "execute_result",
          "data": {
            "text/plain": [
              "array([[180.8866  ],\n",
              "       [191.41367 ],\n",
              "       [166.49924 ],\n",
              "       [248.53984 ],\n",
              "       [181.225   ],\n",
              "       [267.30652 ],\n",
              "       [156.55711 ],\n",
              "       [ 63.16801 ],\n",
              "       [149.9561  ],\n",
              "       [177.9379  ],\n",
              "       [226.57066 ],\n",
              "       [197.67667 ],\n",
              "       [103.00855 ],\n",
              "       [224.48575 ],\n",
              "       [100.59019 ],\n",
              "       [211.25035 ],\n",
              "       [ 80.618835],\n",
              "       [125.5426  ],\n",
              "       [134.7795  ],\n",
              "       [152.13954 ],\n",
              "       [ 82.08635 ],\n",
              "       [ 83.62086 ],\n",
              "       [183.67824 ],\n",
              "       [128.76411 ],\n",
              "       [226.00377 ],\n",
              "       [183.44778 ],\n",
              "       [114.830765],\n",
              "       [ 95.92123 ],\n",
              "       [175.37903 ],\n",
              "       [228.69032 ],\n",
              "       [234.80293 ],\n",
              "       [239.44107 ],\n",
              "       [150.4726  ],\n",
              "       [126.93568 ],\n",
              "       [126.34586 ],\n",
              "       [156.52702 ],\n",
              "       [111.00836 ],\n",
              "       [227.22414 ],\n",
              "       [206.1629  ],\n",
              "       [128.3827  ],\n",
              "       [111.140205],\n",
              "       [122.18764 ],\n",
              "       [190.5603  ],\n",
              "       [231.38179 ],\n",
              "       [148.32832 ],\n",
              "       [243.16248 ],\n",
              "       [164.7047  ],\n",
              "       [191.34839 ],\n",
              "       [162.94016 ],\n",
              "       [129.48065 ],\n",
              "       [137.91461 ],\n",
              "       [206.76973 ],\n",
              "       [175.65474 ],\n",
              "       [157.91899 ],\n",
              "       [194.80263 ],\n",
              "       [ 67.674576],\n",
              "       [166.33163 ],\n",
              "       [116.38297 ],\n",
              "       [170.7677  ],\n",
              "       [ 84.993706],\n",
              "       [143.51079 ],\n",
              "       [148.97423 ],\n",
              "       [195.25829 ],\n",
              "       [259.85516 ],\n",
              "       [181.41904 ],\n",
              "       [155.35759 ],\n",
              "       [122.18393 ],\n",
              "       [197.28746 ],\n",
              "       [206.61166 ],\n",
              "       [113.15146 ],\n",
              "       [164.76918 ],\n",
              "       [168.34363 ],\n",
              "       [ 87.81147 ],\n",
              "       [ 85.6964  ],\n",
              "       [ 64.46901 ],\n",
              "       [123.846405],\n",
              "       [223.99988 ],\n",
              "       [ 78.75042 ],\n",
              "       [259.9232  ],\n",
              "       [121.24127 ],\n",
              "       [169.39293 ],\n",
              "       [209.60324 ],\n",
              "       [127.3617  ],\n",
              "       [ 77.00099 ],\n",
              "       [187.843   ],\n",
              "       [203.97852 ],\n",
              "       [ 95.05174 ],\n",
              "       [173.04517 ],\n",
              "       [214.13028 ],\n",
              "       [182.65076 ],\n",
              "       [ 81.96926 ],\n",
              "       [171.89442 ],\n",
              "       [201.1828  ],\n",
              "       [135.94772 ],\n",
              "       [230.4883  ],\n",
              "       [ 81.00497 ],\n",
              "       [144.4267  ],\n",
              "       [143.39986 ],\n",
              "       [ 86.578026],\n",
              "       [164.27682 ],\n",
              "       [179.34787 ],\n",
              "       [123.35063 ],\n",
              "       [150.72362 ],\n",
              "       [187.03015 ],\n",
              "       [179.10208 ],\n",
              "       [ 91.65399 ],\n",
              "       [170.56252 ],\n",
              "       [262.89258 ],\n",
              "       [ 81.09955 ],\n",
              "       [217.04266 ],\n",
              "       [185.45668 ],\n",
              "       [179.4713  ],\n",
              "       [312.3883  ],\n",
              "       [110.299675],\n",
              "       [294.137   ],\n",
              "       [122.82342 ],\n",
              "       [ 80.5064  ],\n",
              "       [246.30975 ],\n",
              "       [159.26959 ],\n",
              "       [120.27744 ],\n",
              "       [249.78568 ],\n",
              "       [116.90806 ],\n",
              "       [193.01173 ],\n",
              "       [153.0382  ],\n",
              "       [112.41868 ],\n",
              "       [243.65851 ],\n",
              "       [160.60619 ],\n",
              "       [114.08826 ],\n",
              "       [152.74232 ],\n",
              "       [ 52.664497],\n",
              "       [122.12101 ],\n",
              "       [161.00586 ],\n",
              "       [260.26584 ]], dtype=float32)"
            ]
          },
          "metadata": {},
          "execution_count": 188
        }
      ]
    },
    {
      "cell_type": "markdown",
      "metadata": {
        "id": "vQLzMZTM1KeG"
      },
      "source": [
        "### Visualisation of residuals"
      ]
    },
    {
      "cell_type": "code",
      "source": [
        "import seaborn as sns"
      ],
      "metadata": {
        "id": "r8FBhA7Bc4gM"
      },
      "execution_count": null,
      "outputs": []
    },
    {
      "cell_type": "code",
      "source": [
        "y_test"
      ],
      "metadata": {
        "id": "viOlHlM0jkZw",
        "outputId": "5eb3f65e-2d65-45cb-a789-3d8a9159c777",
        "colab": {
          "base_uri": "https://localhost:8080/"
        }
      },
      "execution_count": null,
      "outputs": [
        {
          "output_type": "execute_result",
          "data": {
            "text/plain": [
              "array([107., 212., 196., 248., 164., 220., 131.,  78.,  97.,  66., 155.,\n",
              "       222., 101., 192., 158., 259.,  87., 132.,  49., 276.,  37., 134.,\n",
              "        78.,  84., 236., 167.,  78., 115.,  85., 232., 268., 317., 198.,\n",
              "        71., 214., 118.,  72., 280., 166., 144., 135.,  68., 129., 246.,\n",
              "        50., 242., 104.,  68., 127.,  90., 214., 275., 311., 252., 293.,\n",
              "        52., 143., 107.,  58.,  77., 134., 200., 233., 152., 126., 144.,\n",
              "       103., 137., 163., 101., 180., 122.,  72.,  59.,  96., 145., 259.,\n",
              "       158., 243., 183., 138., 292.,  44.,  43.,  90.,  52.,  71.,  52.,\n",
              "       332., 139.,  65., 174., 288.,  74., 195.,  39.,  25., 142.,  53.,\n",
              "       141., 244.,  97., 146., 178., 181., 170., 206., 303.,  92., 296.,\n",
              "       232., 198., 242.,  71., 230.,  83., 102., 281., 265., 139., 341.,\n",
              "        96., 170., 150., 179., 217., 151., 160., 200.,  65.,  64., 113.,\n",
              "       263.])"
            ]
          },
          "metadata": {},
          "execution_count": 174
        }
      ]
    },
    {
      "cell_type": "code",
      "source": [
        "predictions"
      ],
      "metadata": {
        "id": "sW4pEfndjn69",
        "outputId": "02b3fc2f-c81c-4fba-eebd-66ec826064d0",
        "colab": {
          "base_uri": "https://localhost:8080/"
        }
      },
      "execution_count": null,
      "outputs": [
        {
          "output_type": "execute_result",
          "data": {
            "text/plain": [
              "array([[180.8866  ],\n",
              "       [191.41367 ],\n",
              "       [166.49924 ],\n",
              "       [248.53984 ],\n",
              "       [181.225   ],\n",
              "       [267.30652 ],\n",
              "       [156.55711 ],\n",
              "       [ 63.16801 ],\n",
              "       [149.9561  ],\n",
              "       [177.9379  ],\n",
              "       [226.57066 ],\n",
              "       [197.67667 ],\n",
              "       [103.00855 ],\n",
              "       [224.48575 ],\n",
              "       [100.59019 ],\n",
              "       [211.25035 ],\n",
              "       [ 80.618835],\n",
              "       [125.5426  ],\n",
              "       [134.7795  ],\n",
              "       [152.13954 ],\n",
              "       [ 82.08635 ],\n",
              "       [ 83.62086 ],\n",
              "       [183.67824 ],\n",
              "       [128.76411 ],\n",
              "       [226.00377 ],\n",
              "       [183.44778 ],\n",
              "       [114.830765],\n",
              "       [ 95.92123 ],\n",
              "       [175.37903 ],\n",
              "       [228.69032 ],\n",
              "       [234.80293 ],\n",
              "       [239.44107 ],\n",
              "       [150.4726  ],\n",
              "       [126.93568 ],\n",
              "       [126.34586 ],\n",
              "       [156.52702 ],\n",
              "       [111.00836 ],\n",
              "       [227.22414 ],\n",
              "       [206.1629  ],\n",
              "       [128.3827  ],\n",
              "       [111.140205],\n",
              "       [122.18764 ],\n",
              "       [190.5603  ],\n",
              "       [231.38179 ],\n",
              "       [148.32832 ],\n",
              "       [243.16248 ],\n",
              "       [164.7047  ],\n",
              "       [191.34839 ],\n",
              "       [162.94016 ],\n",
              "       [129.48065 ],\n",
              "       [137.91461 ],\n",
              "       [206.76973 ],\n",
              "       [175.65474 ],\n",
              "       [157.91899 ],\n",
              "       [194.80263 ],\n",
              "       [ 67.674576],\n",
              "       [166.33163 ],\n",
              "       [116.38297 ],\n",
              "       [170.7677  ],\n",
              "       [ 84.993706],\n",
              "       [143.51079 ],\n",
              "       [148.97423 ],\n",
              "       [195.25829 ],\n",
              "       [259.85516 ],\n",
              "       [181.41904 ],\n",
              "       [155.35759 ],\n",
              "       [122.18393 ],\n",
              "       [197.28746 ],\n",
              "       [206.61166 ],\n",
              "       [113.15146 ],\n",
              "       [164.76918 ],\n",
              "       [168.34363 ],\n",
              "       [ 87.81147 ],\n",
              "       [ 85.6964  ],\n",
              "       [ 64.46901 ],\n",
              "       [123.846405],\n",
              "       [223.99988 ],\n",
              "       [ 78.75042 ],\n",
              "       [259.9232  ],\n",
              "       [121.24127 ],\n",
              "       [169.39293 ],\n",
              "       [209.60324 ],\n",
              "       [127.3617  ],\n",
              "       [ 77.00099 ],\n",
              "       [187.843   ],\n",
              "       [203.97852 ],\n",
              "       [ 95.05174 ],\n",
              "       [173.04517 ],\n",
              "       [214.13028 ],\n",
              "       [182.65076 ],\n",
              "       [ 81.96926 ],\n",
              "       [171.89442 ],\n",
              "       [201.1828  ],\n",
              "       [135.94772 ],\n",
              "       [230.4883  ],\n",
              "       [ 81.00497 ],\n",
              "       [144.4267  ],\n",
              "       [143.39986 ],\n",
              "       [ 86.578026],\n",
              "       [164.27682 ],\n",
              "       [179.34787 ],\n",
              "       [123.35063 ],\n",
              "       [150.72362 ],\n",
              "       [187.03015 ],\n",
              "       [179.10208 ],\n",
              "       [ 91.65399 ],\n",
              "       [170.56252 ],\n",
              "       [262.89258 ],\n",
              "       [ 81.09955 ],\n",
              "       [217.04266 ],\n",
              "       [185.45668 ],\n",
              "       [179.4713  ],\n",
              "       [312.3883  ],\n",
              "       [110.299675],\n",
              "       [294.137   ],\n",
              "       [122.82342 ],\n",
              "       [ 80.5064  ],\n",
              "       [246.30975 ],\n",
              "       [159.26959 ],\n",
              "       [120.27744 ],\n",
              "       [249.78568 ],\n",
              "       [116.90806 ],\n",
              "       [193.01173 ],\n",
              "       [153.0382  ],\n",
              "       [112.41868 ],\n",
              "       [243.65851 ],\n",
              "       [160.60619 ],\n",
              "       [114.08826 ],\n",
              "       [152.74232 ],\n",
              "       [ 52.664497],\n",
              "       [122.12101 ],\n",
              "       [161.00586 ],\n",
              "       [260.26584 ]], dtype=float32)"
            ]
          },
          "metadata": {},
          "execution_count": 189
        }
      ]
    },
    {
      "cell_type": "code",
      "execution_count": 27,
      "metadata": {
        "colab": {
          "base_uri": "https://localhost:8080/",
          "height": 312
        },
        "id": "opIulVSw1KeH",
        "outputId": "5e4e4384-22e7-4c66-84e4-373fbfc828d5"
      },
      "outputs": [
        {
          "output_type": "execute_result",
          "data": {
            "text/plain": [
              "<matplotlib.axes._subplots.AxesSubplot at 0x7fb49982b0d0>"
            ]
          },
          "metadata": {},
          "execution_count": 27
        },
        {
          "output_type": "display_data",
          "data": {
            "image/png": "[encoded data removed]",
            "text/plain": [
              "<Figure size 432x288 with 1 Axes>"
            ]
          },
          "metadata": {
            "needs_background": "light"
          }
        }
      ],
      "source": [
        "# insert code here\n",
        "\n",
        "residuals = predictions - y_test\n",
        "sns.regplot(x = residuals, y  = predictions, data= None, scatter = True, color='red')\n",
        "\n"
      ]
    },
    {
      "cell_type": "code",
      "source": [
        "#x_zero = predictions\n",
        "#y_zero = np.zeros(len(y_test))\n",
        "#fig, axs = plt.subplots(2, 1)\n",
        "#axs[0].plot(x_zero, y_zero, color ='orange')\n",
        "#axs[0].scatter(predictions, )"
      ],
      "metadata": {
        "id": "0-yypdnEg0DD",
        "outputId": "e1551d2b-c8f9-4c24-8460-9ce761b0722d",
        "colab": {
          "base_uri": "https://localhost:8080/",
          "height": 600
        }
      },
      "execution_count": null,
      "outputs": [
        {
          "output_type": "error",
          "ename": "TypeError",
          "evalue": "ignored",
          "traceback": [
            "\u001b[0;31m---------------------------------------------------------------------------\u001b[0m",
            "\u001b[0;31mTypeError\u001b[0m                                 Traceback (most recent call last)",
            "\u001b[0;32m<ipython-input-196-9d51230a0783>\u001b[0m in \u001b[0;36m<module>\u001b[0;34m()\u001b[0m\n\u001b[1;32m      3\u001b[0m \u001b[0mfig\u001b[0m\u001b[0;34m,\u001b[0m \u001b[0maxs\u001b[0m \u001b[0;34m=\u001b[0m \u001b[0mplt\u001b[0m\u001b[0;34m.\u001b[0m\u001b[0msubplots\u001b[0m\u001b[0;34m(\u001b[0m\u001b[0;36m2\u001b[0m\u001b[0;34m,\u001b[0m \u001b[0;36m1\u001b[0m\u001b[0;34m)\u001b[0m\u001b[0;34m\u001b[0m\u001b[0;34m\u001b[0m\u001b[0m\n\u001b[1;32m      4\u001b[0m \u001b[0maxs\u001b[0m\u001b[0;34m[\u001b[0m\u001b[0;36m0\u001b[0m\u001b[0;34m]\u001b[0m\u001b[0;34m.\u001b[0m\u001b[0mplot\u001b[0m\u001b[0;34m(\u001b[0m\u001b[0mx_zero\u001b[0m\u001b[0;34m,\u001b[0m \u001b[0my_zero\u001b[0m\u001b[0;34m,\u001b[0m \u001b[0mcolor\u001b[0m \u001b[0;34m=\u001b[0m\u001b[0;34m'orange'\u001b[0m\u001b[0;34m)\u001b[0m\u001b[0;34m\u001b[0m\u001b[0;34m\u001b[0m\u001b[0m\n\u001b[0;32m----> 5\u001b[0;31m \u001b[0maxs\u001b[0m\u001b[0;34m[\u001b[0m\u001b[0;36m0\u001b[0m\u001b[0;34m]\u001b[0m\u001b[0;34m.\u001b[0m\u001b[0mscatter\u001b[0m\u001b[0;34m(\u001b[0m\u001b[0mpredictions\u001b[0m\u001b[0;34m,\u001b[0m \u001b[0;34m)\u001b[0m\u001b[0;34m\u001b[0m\u001b[0;34m\u001b[0m\u001b[0m\n\u001b[0m",
            "\u001b[0;32m/usr/local/lib/python3.7/dist-packages/matplotlib/__init__.py\u001b[0m in \u001b[0;36minner\u001b[0;34m(ax, data, *args, **kwargs)\u001b[0m\n\u001b[1;32m   1563\u001b[0m     \u001b[0;32mdef\u001b[0m \u001b[0minner\u001b[0m\u001b[0;34m(\u001b[0m\u001b[0max\u001b[0m\u001b[0;34m,\u001b[0m \u001b[0;34m*\u001b[0m\u001b[0margs\u001b[0m\u001b[0;34m,\u001b[0m \u001b[0mdata\u001b[0m\u001b[0;34m=\u001b[0m\u001b[0;32mNone\u001b[0m\u001b[0;34m,\u001b[0m \u001b[0;34m**\u001b[0m\u001b[0mkwargs\u001b[0m\u001b[0;34m)\u001b[0m\u001b[0;34m:\u001b[0m\u001b[0;34m\u001b[0m\u001b[0;34m\u001b[0m\u001b[0m\n\u001b[1;32m   1564\u001b[0m         \u001b[0;32mif\u001b[0m \u001b[0mdata\u001b[0m \u001b[0;32mis\u001b[0m \u001b[0;32mNone\u001b[0m\u001b[0;34m:\u001b[0m\u001b[0;34m\u001b[0m\u001b[0;34m\u001b[0m\u001b[0m\n\u001b[0;32m-> 1565\u001b[0;31m             \u001b[0;32mreturn\u001b[0m \u001b[0mfunc\u001b[0m\u001b[0;34m(\u001b[0m\u001b[0max\u001b[0m\u001b[0;34m,\u001b[0m \u001b[0;34m*\u001b[0m\u001b[0mmap\u001b[0m\u001b[0;34m(\u001b[0m\u001b[0msanitize_sequence\u001b[0m\u001b[0;34m,\u001b[0m \u001b[0margs\u001b[0m\u001b[0;34m)\u001b[0m\u001b[0;34m,\u001b[0m \u001b[0;34m**\u001b[0m\u001b[0mkwargs\u001b[0m\u001b[0;34m)\u001b[0m\u001b[0;34m\u001b[0m\u001b[0;34m\u001b[0m\u001b[0m\n\u001b[0m\u001b[1;32m   1566\u001b[0m \u001b[0;34m\u001b[0m\u001b[0m\n\u001b[1;32m   1567\u001b[0m         \u001b[0mbound\u001b[0m \u001b[0;34m=\u001b[0m \u001b[0mnew_sig\u001b[0m\u001b[0;34m.\u001b[0m\u001b[0mbind\u001b[0m\u001b[0;34m(\u001b[0m\u001b[0max\u001b[0m\u001b[0;34m,\u001b[0m \u001b[0;34m*\u001b[0m\u001b[0margs\u001b[0m\u001b[0;34m,\u001b[0m \u001b[0;34m**\u001b[0m\u001b[0mkwargs\u001b[0m\u001b[0;34m)\u001b[0m\u001b[0;34m\u001b[0m\u001b[0;34m\u001b[0m\u001b[0m\n",
            "\u001b[0;32m/usr/local/lib/python3.7/dist-packages/matplotlib/cbook/deprecation.py\u001b[0m in \u001b[0;36mwrapper\u001b[0;34m(*args, **kwargs)\u001b[0m\n\u001b[1;32m    347\u001b[0m     \u001b[0;34m@\u001b[0m\u001b[0mfunctools\u001b[0m\u001b[0;34m.\u001b[0m\u001b[0mwraps\u001b[0m\u001b[0;34m(\u001b[0m\u001b[0mfunc\u001b[0m\u001b[0;34m)\u001b[0m\u001b[0;34m\u001b[0m\u001b[0;34m\u001b[0m\u001b[0m\n\u001b[1;32m    348\u001b[0m     \u001b[0;32mdef\u001b[0m \u001b[0mwrapper\u001b[0m\u001b[0;34m(\u001b[0m\u001b[0;34m*\u001b[0m\u001b[0margs\u001b[0m\u001b[0;34m,\u001b[0m \u001b[0;34m**\u001b[0m\u001b[0mkwargs\u001b[0m\u001b[0;34m)\u001b[0m\u001b[0;34m:\u001b[0m\u001b[0;34m\u001b[0m\u001b[0;34m\u001b[0m\u001b[0m\n\u001b[0;32m--> 349\u001b[0;31m         \u001b[0marguments\u001b[0m \u001b[0;34m=\u001b[0m \u001b[0mfunc\u001b[0m\u001b[0;34m.\u001b[0m\u001b[0m__signature__\u001b[0m\u001b[0;34m.\u001b[0m\u001b[0mbind\u001b[0m\u001b[0;34m(\u001b[0m\u001b[0;34m*\u001b[0m\u001b[0margs\u001b[0m\u001b[0;34m,\u001b[0m \u001b[0;34m**\u001b[0m\u001b[0mkwargs\u001b[0m\u001b[0;34m)\u001b[0m\u001b[0;34m.\u001b[0m\u001b[0marguments\u001b[0m\u001b[0;34m\u001b[0m\u001b[0;34m\u001b[0m\u001b[0m\n\u001b[0m\u001b[1;32m    350\u001b[0m         \u001b[0;31m# We cannot just check `name not in arguments` because the pyplot\u001b[0m\u001b[0;34m\u001b[0m\u001b[0;34m\u001b[0m\u001b[0;34m\u001b[0m\u001b[0m\n\u001b[1;32m    351\u001b[0m         \u001b[0;31m# wrappers always pass all arguments explicitly.\u001b[0m\u001b[0;34m\u001b[0m\u001b[0;34m\u001b[0m\u001b[0;34m\u001b[0m\u001b[0m\n",
            "\u001b[0;32m/usr/lib/python3.7/inspect.py\u001b[0m in \u001b[0;36mbind\u001b[0;34m(*args, **kwargs)\u001b[0m\n\u001b[1;32m   3013\u001b[0m         \u001b[0;32mif\u001b[0m \u001b[0mthe\u001b[0m \u001b[0mpassed\u001b[0m \u001b[0marguments\u001b[0m \u001b[0mcan\u001b[0m \u001b[0;32mnot\u001b[0m \u001b[0mbe\u001b[0m \u001b[0mbound\u001b[0m\u001b[0;34m.\u001b[0m\u001b[0;34m\u001b[0m\u001b[0;34m\u001b[0m\u001b[0m\n\u001b[1;32m   3014\u001b[0m         \"\"\"\n\u001b[0;32m-> 3015\u001b[0;31m         \u001b[0;32mreturn\u001b[0m \u001b[0margs\u001b[0m\u001b[0;34m[\u001b[0m\u001b[0;36m0\u001b[0m\u001b[0;34m]\u001b[0m\u001b[0;34m.\u001b[0m\u001b[0m_bind\u001b[0m\u001b[0;34m(\u001b[0m\u001b[0margs\u001b[0m\u001b[0;34m[\u001b[0m\u001b[0;36m1\u001b[0m\u001b[0;34m:\u001b[0m\u001b[0;34m]\u001b[0m\u001b[0;34m,\u001b[0m \u001b[0mkwargs\u001b[0m\u001b[0;34m)\u001b[0m\u001b[0;34m\u001b[0m\u001b[0;34m\u001b[0m\u001b[0m\n\u001b[0m\u001b[1;32m   3016\u001b[0m \u001b[0;34m\u001b[0m\u001b[0m\n\u001b[1;32m   3017\u001b[0m     \u001b[0;32mdef\u001b[0m \u001b[0mbind_partial\u001b[0m\u001b[0;34m(\u001b[0m\u001b[0;34m*\u001b[0m\u001b[0margs\u001b[0m\u001b[0;34m,\u001b[0m \u001b[0;34m**\u001b[0m\u001b[0mkwargs\u001b[0m\u001b[0;34m)\u001b[0m\u001b[0;34m:\u001b[0m\u001b[0;34m\u001b[0m\u001b[0;34m\u001b[0m\u001b[0m\n",
            "\u001b[0;32m/usr/lib/python3.7/inspect.py\u001b[0m in \u001b[0;36m_bind\u001b[0;34m(self, args, kwargs, partial)\u001b[0m\n\u001b[1;32m   2928\u001b[0m                             \u001b[0mmsg\u001b[0m \u001b[0;34m=\u001b[0m \u001b[0;34m'missing a required argument: {arg!r}'\u001b[0m\u001b[0;34m\u001b[0m\u001b[0;34m\u001b[0m\u001b[0m\n\u001b[1;32m   2929\u001b[0m                             \u001b[0mmsg\u001b[0m \u001b[0;34m=\u001b[0m \u001b[0mmsg\u001b[0m\u001b[0;34m.\u001b[0m\u001b[0mformat\u001b[0m\u001b[0;34m(\u001b[0m\u001b[0marg\u001b[0m\u001b[0;34m=\u001b[0m\u001b[0mparam\u001b[0m\u001b[0;34m.\u001b[0m\u001b[0mname\u001b[0m\u001b[0;34m)\u001b[0m\u001b[0;34m\u001b[0m\u001b[0;34m\u001b[0m\u001b[0m\n\u001b[0;32m-> 2930\u001b[0;31m                             \u001b[0;32mraise\u001b[0m \u001b[0mTypeError\u001b[0m\u001b[0;34m(\u001b[0m\u001b[0mmsg\u001b[0m\u001b[0;34m)\u001b[0m \u001b[0;32mfrom\u001b[0m \u001b[0;32mNone\u001b[0m\u001b[0;34m\u001b[0m\u001b[0;34m\u001b[0m\u001b[0m\n\u001b[0m\u001b[1;32m   2931\u001b[0m             \u001b[0;32melse\u001b[0m\u001b[0;34m:\u001b[0m\u001b[0;34m\u001b[0m\u001b[0;34m\u001b[0m\u001b[0m\n\u001b[1;32m   2932\u001b[0m                 \u001b[0;31m# We have a positional argument to process\u001b[0m\u001b[0;34m\u001b[0m\u001b[0;34m\u001b[0m\u001b[0;34m\u001b[0m\u001b[0m\n",
            "\u001b[0;31mTypeError\u001b[0m: missing a required argument: 'y'"
          ]
        },
        {
          "output_type": "display_data",
          "data": {
            "image/png": "[encoded data removed]",
            "text/plain": [
              "<Figure size 432x288 with 2 Axes>"
            ]
          },
          "metadata": {
            "needs_background": "light"
          }
        }
      ]
    },
    {
      "cell_type": "code",
      "source": [
        ""
      ],
      "metadata": {
        "id": "xBGqoXGmg-zm",
        "outputId": "f52cbb6e-572c-4dd3-8e94-d3ef39a85d61",
        "colab": {
          "base_uri": "https://localhost:8080/"
        }
      },
      "execution_count": null,
      "outputs": [
        {
          "output_type": "execute_result",
          "data": {
            "text/plain": [
              "array([0., 0., 0., 0., 0., 0., 0., 0., 0., 0., 0., 0., 0., 0., 0., 0., 0.,\n",
              "       0., 0., 0., 0., 0., 0., 0., 0., 0., 0., 0., 0., 0., 0., 0., 0., 0.,\n",
              "       0., 0., 0., 0., 0., 0., 0., 0., 0., 0., 0., 0., 0., 0., 0., 0., 0.,\n",
              "       0., 0., 0., 0., 0., 0., 0., 0., 0., 0., 0., 0., 0., 0., 0., 0., 0.,\n",
              "       0., 0., 0., 0., 0., 0., 0., 0., 0., 0., 0., 0., 0., 0., 0., 0., 0.,\n",
              "       0., 0., 0., 0., 0., 0., 0., 0., 0., 0., 0., 0., 0., 0., 0., 0., 0.,\n",
              "       0., 0., 0., 0., 0., 0., 0., 0., 0., 0., 0., 0., 0., 0., 0., 0., 0.,\n",
              "       0., 0., 0., 0., 0., 0., 0., 0., 0., 0., 0., 0., 0., 0.])"
            ]
          },
          "metadata": {},
          "execution_count": 167
        }
      ]
    },
    {
      "cell_type": "markdown",
      "metadata": {
        "id": "RERADKgNFq9T"
      },
      "source": [
        "© 2020 Institute of Data"
      ]
    },
    {
      "cell_type": "code",
      "source": [
        ""
      ],
      "metadata": {
        "id": "bH7IqIVGefLu"
      },
      "execution_count": null,
      "outputs": []
    }
  ],
  "metadata": {
    "colab": {
      "collapsed_sections": [],
      "name": "Copy of IOD_Lab-10_1.ipynb",
      "provenance": [],
      "include_colab_link": true
    },
    "kernelspec": {
      "display_name": "Python 3",
      "language": "python",
      "name": "python3"
    },
    "language_info": {
      "codemirror_mode": {
        "name": "ipython",
        "version": 3
      },
      "file_extension": ".py",
      "mimetype": "text/x-python",
      "name": "python",
      "nbconvert_exporter": "python",
      "pygments_lexer": "ipython3",
      "version": "3.7.4"
    },
    "toc": {
      "base_numbering": 1,
      "nav_menu": {},
      "number_sections": true,
      "sideBar": true,
      "skip_h1_title": false,
      "title_cell": "Table of Contents",
      "title_sidebar": "Contents",
      "toc_cell": false,
      "toc_position": {},
      "toc_section_display": true,
      "toc_window_display": true
    }
  },
  "nbformat": 4,
  "nbformat_minor": 0
}